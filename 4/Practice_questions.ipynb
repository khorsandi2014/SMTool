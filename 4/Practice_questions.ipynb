{
 "cells": [
  {
   "cell_type": "markdown",
   "metadata": {},
   "source": [
    "# Make a prime number list from (1,100)"
   ]
  },
  {
   "cell_type": "markdown",
   "metadata": {},
   "source": [
    "# A simpler code?"
   ]
  },
  {
   "cell_type": "code",
   "execution_count": 7,
   "metadata": {},
   "outputs": [
    {
     "name": "stdout",
     "output_type": "stream",
     "text": [
      "2\n",
      "3\n",
      "5\n",
      "7\n",
      "11\n",
      "13\n",
      "17\n",
      "19\n",
      "23\n",
      "29\n",
      "31\n",
      "37\n",
      "41\n",
      "43\n",
      "47\n",
      "53\n",
      "59\n",
      "61\n",
      "67\n",
      "71\n",
      "73\n",
      "79\n",
      "83\n",
      "89\n",
      "97\n"
     ]
    }
   ],
   "source": [
    "def isPrime(n):\n",
    "   if n == 1:\n",
    "      return (False)\n",
    "   for t in range(2,n):\n",
    "      if n % t == 0:\n",
    "         return (False)\n",
    "   return (True)\n",
    "\n",
    "for n in range(1,100):\n",
    "    if isPrime(n):\n",
    "        print(n)"
   ]
  },
  {
   "cell_type": "markdown",
   "metadata": {},
   "source": [
    "# Reversing a string - Recursive"
   ]
  },
  {
   "cell_type": "markdown",
   "metadata": {},
   "source": [
    "a[start:end] # items start through end-1\n",
    "a[start:]    # items start through the rest of the array\n",
    "a[:end]      # items from the beginning through end-1\n",
    "a[:]         # a copy of the whole array\n",
    "There is also the step value, which can be used with any of the above:\n",
    "\n",
    "\n",
    "\n",
    "a[-1]    # last item in the array\n",
    "a[-2:]   # last two items in the array\n",
    "a[:-2]   # everything except the last two items\n",
    "Similarly, step may be a negative number:\n",
    "\n",
    "\n",
    "a[::-1]    # all items in the array, reversed\n",
    "a[1::-1]   # the first two items, reversed\n",
    "a[:-3:-1]  # the last two items, reversed\n",
    "a[-3::-1]  # everything except the last two items, reversed"
   ]
  },
  {
   "cell_type": "code",
   "execution_count": 22,
   "metadata": {},
   "outputs": [
    {
     "data": {
      "text/plain": [
       "'87654'"
      ]
     },
     "execution_count": 22,
     "metadata": {},
     "output_type": "execute_result"
    }
   ],
   "source": [
    "st='123456789'\n",
    "st[7:2:-1]"
   ]
  },
  {
   "cell_type": "code",
   "execution_count": 10,
   "metadata": {},
   "outputs": [
    {
     "data": {
      "text/plain": [
       "'e'"
      ]
     },
     "execution_count": 10,
     "metadata": {},
     "output_type": "execute_result"
    }
   ],
   "source": [
    "str='hello'\n",
    "a=str[1:2:]\n",
    "a"
   ]
  },
  {
   "cell_type": "markdown",
   "metadata": {},
   "source": [
    "  reverse(hello)\n",
    " = reverse(ello) + h           # The recursive step\n",
    " = reverse(llo) + e + h\n",
    " = reverse(lo) + l + e + h\n",
    " = reverse(o) + l + l + e + h  # Base case\n",
    " = o + l + l + e + h\n",
    " = olleh"
   ]
  },
  {
   "cell_type": "code",
   "execution_count": 9,
   "metadata": {},
   "outputs": [
    {
     "name": "stdout",
     "output_type": "stream",
     "text": [
      "reverse\n",
      "everse\n",
      "verse\n",
      "erse\n",
      "rse\n",
      "se\n",
      "e\n",
      "esrever\n"
     ]
    }
   ],
   "source": [
    "def reverse(input):\n",
    "    print (input)\n",
    "    if len(input) <= 1:\n",
    "\t    return input\n",
    "\t\n",
    "    return reverse(input[1:]) + input[0]\n",
    "\n",
    "s = 'reverse'\t\n",
    "print(reverse(s))"
   ]
  },
  {
   "cell_type": "markdown",
   "metadata": {},
   "source": [
    "# Reversing a string - Iterative"
   ]
  },
  {
   "cell_type": "code",
   "execution_count": 10,
   "metadata": {},
   "outputs": [
    {
     "name": "stdout",
     "output_type": "stream",
     "text": [
      "esrever\n"
     ]
    }
   ],
   "source": [
    "def reverse(input):\n",
    "    return (''.join([input[i] for i in range(len(input)-1, -1, -1)]))\n",
    "\t\n",
    "s = 'reverse'\t\n",
    "print(reverse(s))"
   ]
  },
  {
   "cell_type": "markdown",
   "metadata": {},
   "source": [
    "# factorial calculation"
   ]
  },
  {
   "cell_type": "code",
   "execution_count": 26,
   "metadata": {},
   "outputs": [
    {
     "data": {
      "text/plain": [
       "24"
      ]
     },
     "execution_count": 26,
     "metadata": {},
     "output_type": "execute_result"
    }
   ],
   "source": [
    "def fact(n):\n",
    "    res=1\n",
    "    for i in range(1,n+1):\n",
    "        res*=i\n",
    "    return(res)\n",
    "\n",
    "fact(4)"
   ]
  },
  {
   "cell_type": "code",
   "execution_count": 24,
   "metadata": {},
   "outputs": [
    {
     "data": {
      "text/plain": [
       "24"
      ]
     },
     "execution_count": 24,
     "metadata": {},
     "output_type": "execute_result"
    }
   ],
   "source": [
    "def rec_fact(n):\n",
    "    if n==1:\n",
    "        return 1\n",
    "    else:\n",
    "        return n*rec_fact(n-1)\n",
    "    \n",
    "rec_fact(4)"
   ]
  },
  {
   "cell_type": "markdown",
   "metadata": {},
   "source": [
    "# Merging overlapped range"
   ]
  },
  {
   "cell_type": "code",
   "execution_count": 12,
   "metadata": {},
   "outputs": [
    {
     "name": "stdout",
     "output_type": "stream",
     "text": [
      "[(1, 3), (4, 9), (8, 13), (12, 15), (20, 22), (23, 31), (24, 32), (40, 50)]\n",
      "[(1, 3), (4, 15), (20, 22), (23, 32), (40, 50)]\n"
     ]
    }
   ],
   "source": [
    "#[(1, 5), (2, 4), (3, 6)] --->  [(1, 6)]\n",
    "#[(1, 3), (2, 4), (5, 6)] --->  [(1, 4), (5, 6)]\n",
    "\n",
    "L = [(4,9), (20, 22), (1, 3), (24, 32), (23, 31), (40,50), (12, 15), (8,13)]\n",
    "L = sorted(L)\n",
    "print (L)\n",
    "\n",
    "Lnew = []\n",
    "st = L[0][0]\n",
    "end = L[0][1]\n",
    "\n",
    "for item in L[1:]:\n",
    "    if end >= item[0]:\n",
    "        if end < item[1]:\n",
    "            end = item[1]\n",
    "    else:\n",
    "        Lnew.append((st,end))\n",
    "        st = item[0]\n",
    "        end = item[1]\n",
    "    \n",
    "Lnew.append((st,end))\n",
    "\n",
    "print (Lnew)"
   ]
  },
  {
   "cell_type": "markdown",
   "metadata": {},
   "source": [
    "# Multi-line coding"
   ]
  },
  {
   "cell_type": "code",
   "execution_count": 13,
   "metadata": {},
   "outputs": [
    {
     "name": "stdout",
     "output_type": "stream",
     "text": [
      "DAYS: ['Monday', 'Tuesday', 'Wednesday'], MONTHS ['Jan', 'Feb', 'Mar']\n"
     ]
    }
   ],
   "source": [
    "days = ['Monday',\n",
    "        'Tuesday',\n",
    "        'Wednesday']\n",
    "\n",
    "months = ['Jan', \\\n",
    "         'Feb', \\\n",
    "         'Mar']\n",
    "\n",
    "print (\"DAYS: %s, MONTHS %s\" % (days, months))"
   ]
  },
  {
   "cell_type": "markdown",
   "metadata": {},
   "source": [
    "# Simple calculator"
   ]
  },
  {
   "cell_type": "markdown",
   "metadata": {},
   "source": [
    "This is not a real calculator. It's a practice of stack implementation by manipulating list's pop() and append().\n",
    "\n",
    "The code should pass the following test:\n",
    "\n",
    "test = {\"11++\":-1, \"1+2\": -1, \"12+\":3, \"12+4*\":12, \"12+4*5+\":17, \"42-5*7-\":3}\n",
    "The keys are the question strings, and the values are the correct answers.\n",
    "\n",
    "Note the following:\n",
    "\n",
    "We should have at least two items in the list whenever we see '+'/'-'/'*' operators. Otherwise, it should issue -1 and exit.\n",
    "For '-' operation, we need to take care of the the order of pop() operation. In the code, we prepend '-' for the last item in the list and then pops the 2nd to the last after that."
   ]
  },
  {
   "cell_type": "code",
   "execution_count": 16,
   "metadata": {},
   "outputs": [
    {
     "name": "stdout",
     "output_type": "stream",
     "text": [
      "input= 11++\n",
      "11++ -1 Passed\n",
      "input= 1+2\n",
      "1+2 1 Error\n",
      "input= 12+\n",
      "12+ 3 Passed\n",
      "input= 12+4*\n",
      "12+4* 12 Passed\n",
      "input= 12+4*5+\n",
      "12+4*5+ 17 Passed\n",
      "input= 42-5*7-\n",
      "42-5*7- 3 Passed\n"
     ]
    }
   ],
   "source": [
    "def sol(input):\n",
    "   a = []\n",
    "   print (\"input=\",input)\n",
    "   for c in input:\n",
    "      if c.isdigit():\n",
    "         a.append(c)\n",
    "      elif c == '+':\n",
    "         if len(a) < 2:\n",
    "            return -1\n",
    "         a.append(int(a.pop())+int(a.pop()))\n",
    "      elif c == '-':\n",
    "         if len(a) < 2:\n",
    "            return -1\n",
    "         a.append(-int(a.pop())+int(a.pop()))\n",
    "      elif c == '*':\n",
    "         if len(a) < 2:\n",
    "            return -1\n",
    "         a.append(int(a.pop())*int(a.pop()))\n",
    "      else:\n",
    "         pass\n",
    "   return a[0]\n",
    "\n",
    "test = {\"11++\":-1, \"1+2\": 1, \"12+\":3, \"12+4*\":12, \"12+4*5+\":17, \"42-5*7-\":3}\n",
    "\n",
    "for k,v in test.items():\n",
    "   if sol(k) == v:\n",
    "      print (k, v, 'Passed')\n",
    "      #print\n",
    "   else:\n",
    "      print (k, v, 'Error')\n",
    "      #print"
   ]
  },
  {
   "cell_type": "markdown",
   "metadata": {},
   "source": [
    "# Regular expression - findall"
   ]
  },
  {
   "cell_type": "code",
   "execution_count": 18,
   "metadata": {},
   "outputs": [
    {
     "name": "stdout",
     "output_type": "stream",
     "text": [
      "['8', '5', '149', '24', '173', '3400', '715000']\n"
     ]
    }
   ],
   "source": [
    "s = \"\"\"Solar system:\n",
    "Planets 8\n",
    "Dwarf Planets: 5\n",
    "Moons: Known = 149 | Provisional = 24 | Total = 173\n",
    "Comets: More than 3400\n",
    "Asteroids: More than 715000\"\"\"\n",
    "\n",
    "import re\n",
    "d = re.findall('\\d+',s)\n",
    "print (d)"
   ]
  },
  {
   "cell_type": "markdown",
   "metadata": {},
   "source": [
    "# Chickens and pigs\n",
    "We have a count of 35 heads and 94 legs among the chickens and pigs in a farm. How many pigs and how many chickens do we have?"
   ]
  },
  {
   "cell_type": "code",
   "execution_count": 19,
   "metadata": {},
   "outputs": [
    {
     "name": "stdout",
     "output_type": "stream",
     "text": [
      "23 12\n"
     ]
    }
   ],
   "source": [
    "# 35 heads and 94 legs among the chickens and pigs\n",
    "# c + p = 35\n",
    "# 2*c + 4*p = 94\n",
    "heads = 35\n",
    "legs = 94\n",
    "for c in range(heads):\n",
    "    p = 35-c\n",
    "    if 2*c + 4*p == 94:\n",
    "            print (c,p)"
   ]
  },
  {
   "cell_type": "markdown",
   "metadata": {},
   "source": [
    "# Highest possible product\n",
    "Find the highest possible product that we can get by multiplying any 3 numbers from an input array:"
   ]
  },
  {
   "cell_type": "code",
   "execution_count": 20,
   "metadata": {},
   "outputs": [
    {
     "name": "stdout",
     "output_type": "stream",
     "text": [
      "1800\n",
      "630\n",
      "1800\n",
      "630\n"
     ]
    }
   ],
   "source": [
    "def mx3(a):\n",
    "    b = sorted(a)\n",
    "\n",
    "    m0 = b[0]\n",
    "    m1 = b[1]\n",
    "    x1 = b[-1]\n",
    "    x2 = b[-2]\n",
    "    x3 = b[-3]\n",
    "\n",
    "    if m0 < 0 and m1 < 0:\n",
    "        return (max(m0*m1*x1,x1*x2*x3))\n",
    "\n",
    "    else:\n",
    "        return (x1*x2*x3)\n",
    "\n",
    "l1 = [10,20,5,2,7,9,3,4]   \n",
    "l2 = [10,-20,5,2,7,9,3,4]\n",
    "l3 = [-10,-20,5,2,7,9,-3,4]\n",
    "l4 = [10,-20,5,2,7,9,-3,4]\n",
    "\n",
    "print (mx3(l1))\n",
    "print (mx3(l2))\n",
    "print (mx3(l3))\n",
    "print (mx3(l4))"
   ]
  },
  {
   "cell_type": "code",
   "execution_count": null,
   "metadata": {},
   "outputs": [],
   "source": []
  }
 ],
 "metadata": {
  "kernelspec": {
   "display_name": "Python 3",
   "language": "python",
   "name": "python3"
  },
  "language_info": {
   "codemirror_mode": {
    "name": "ipython",
    "version": 3
   },
   "file_extension": ".py",
   "mimetype": "text/x-python",
   "name": "python",
   "nbconvert_exporter": "python",
   "pygments_lexer": "ipython3",
   "version": "3.6.4"
  }
 },
 "nbformat": 4,
 "nbformat_minor": 2
}
