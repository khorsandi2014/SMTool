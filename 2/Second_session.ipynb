{
 "cells": [
  {
   "cell_type": "code",
   "execution_count": 1,
   "metadata": {},
   "outputs": [
    {
     "name": "stdout",
     "output_type": "stream",
     "text": [
      "Dude, whats wrong with you?\n"
     ]
    }
   ],
   "source": [
    "try:\n",
    "    a=3/0\n",
    "    print(a)\n",
    "except:\n",
    "    print(\"Dude, whats wrong with you?\")"
   ]
  },
  {
   "cell_type": "code",
   "execution_count": 2,
   "metadata": {},
   "outputs": [
    {
     "name": "stdout",
     "output_type": "stream",
     "text": [
      "2.0\n",
      "you cannot do this to me\n",
      "0\n",
      "1.3333333333333333\n",
      "1.25\n"
     ]
    }
   ],
   "source": [
    "for item in [2,1,4,5]:\n",
    "    #print(item)\n",
    "    a=0\n",
    "    try:\n",
    "        a=item/(item-1)\n",
    "        #print(a)\n",
    "    except:\n",
    "        print('you cannot do this to me')\n",
    "        \n",
    "    print(a)      "
   ]
  },
  {
   "cell_type": "code",
   "execution_count": 3,
   "metadata": {},
   "outputs": [
    {
     "name": "stdout",
     "output_type": "stream",
     "text": [
      "Not valid\n"
     ]
    },
    {
     "data": {
      "text/plain": [
       "10"
      ]
     },
     "execution_count": 3,
     "metadata": {},
     "output_type": "execute_result"
    }
   ],
   "source": [
    "def min(list):\n",
    "    if len(list)<1:\n",
    "        print('Not valid')\n",
    "    minn=10\n",
    "    for item in list:\n",
    "        if item<minn:\n",
    "            minn=item        \n",
    "    return(minn)\n",
    "\n",
    "min([])"
   ]
  },
  {
   "cell_type": "code",
   "execution_count": 4,
   "metadata": {},
   "outputs": [
    {
     "name": "stdout",
     "output_type": "stream",
     "text": [
      "List is empty\n"
     ]
    }
   ],
   "source": [
    "def my_min(list_in):\n",
    "    try:\n",
    "        min_item=list_in[0]\n",
    "        for item in list_in:\n",
    "            if item<min_item:\n",
    "                min_item=item\n",
    "        return min_item\n",
    "    except TypeError:\n",
    "        print(\"Input must be a list\")\n",
    "    except IndexError:\n",
    "        print(\"List is empty\")\n",
    "    except:\n",
    "        print(\"Unknown error occurred.\")\n",
    "my_min([])"
   ]
  },
  {
   "cell_type": "code",
   "execution_count": 6,
   "metadata": {},
   "outputs": [
    {
     "name": "stdout",
     "output_type": "stream",
     "text": [
      "100\n",
      "99\n",
      "98\n"
     ]
    }
   ],
   "source": [
    "a=100\n",
    "while a>97:\n",
    "    print(a)\n",
    "    a=a-1"
   ]
  },
  {
   "cell_type": "code",
   "execution_count": 8,
   "metadata": {},
   "outputs": [
    {
     "name": "stdout",
     "output_type": "stream",
     "text": [
      "{1, 2, 6, 7}\n"
     ]
    }
   ],
   "source": [
    "a=[1,2,2,2,2,2,7,6,7]\n",
    "set_a=set(a)\n",
    "print(set_a)"
   ]
  },
  {
   "cell_type": "code",
   "execution_count": 14,
   "metadata": {},
   "outputs": [
    {
     "name": "stdout",
     "output_type": "stream",
     "text": [
      "dict_keys(['1', '2', '8'])\n",
      "1 5\n",
      "2 4\n",
      "8 4\n"
     ]
    }
   ],
   "source": [
    "dict={'1':5,'2':4,'8':4}\n",
    "print(dict.keys())\n",
    "for key,value in dict.items():\n",
    "    print(key,value)"
   ]
  },
  {
   "cell_type": "code",
   "execution_count": 11,
   "metadata": {},
   "outputs": [],
   "source": [
    "dict['7']=9"
   ]
  },
  {
   "cell_type": "code",
   "execution_count": 12,
   "metadata": {},
   "outputs": [
    {
     "data": {
      "text/plain": [
       "{'1': 5, '2': 4, '7': 9, '8': 4}"
      ]
     },
     "execution_count": 12,
     "metadata": {},
     "output_type": "execute_result"
    }
   ],
   "source": [
    "dict"
   ]
  },
  {
   "cell_type": "code",
   "execution_count": 13,
   "metadata": {},
   "outputs": [],
   "source": [
    "a={}"
   ]
  },
  {
   "cell_type": "code",
   "execution_count": 19,
   "metadata": {},
   "outputs": [
    {
     "data": {
      "text/plain": [
       "{'1': 2, '2': 1, '3': 1, '4': 1, '5': 2}"
      ]
     },
     "execution_count": 19,
     "metadata": {},
     "output_type": "execute_result"
    }
   ],
   "source": [
    "test_list=[1,1,2,3,4,5,5]\n",
    "\n",
    "# This function takes a list and returns a dictionary\n",
    "def create_dict(listt):\n",
    "    empty_dict={}\n",
    "    for item in listt:\n",
    "        # if the key is not in dictionary --> Initilalize it\n",
    "        if str(item) not in empty_dict.keys():\n",
    "            empty_dict[str(item)]=1\n",
    "        #idf the key is in dictionary --> increase the count by 1  \n",
    "        else:\n",
    "            empty_dict[str(item)]+=1\n",
    "    return(empty_dict)\n",
    "            \n",
    "create_dict(test_list)      "
   ]
  },
  {
   "cell_type": "code",
   "execution_count": 1,
   "metadata": {},
   "outputs": [],
   "source": [
    "def create_dict(list_in):\n",
    "    list_set=set(list_in)\n",
    "    dict_out={}\n",
    "    for set_item in list_set:\n",
    "        list_item_count=0\n",
    "        for list_item in list_in:\n",
    "            if list_item==set_item:\n",
    "                list_item_count+=1\n",
    "        dict_out[set_item]=list_item_count\n",
    "    return dict_out"
   ]
  },
  {
   "cell_type": "code",
   "execution_count": 2,
   "metadata": {},
   "outputs": [
    {
     "data": {
      "text/plain": [
       "{'1': 2, '2': 1, '3': 1, '5': 1, '7': 1, '8': 4}"
      ]
     },
     "execution_count": 2,
     "metadata": {},
     "output_type": "execute_result"
    }
   ],
   "source": [
    "list_a=[1,1,2,3,7,8,8,8,8,5]\n",
    "list_b=[]\n",
    "\n",
    "def create_dict_from_list(a):  \n",
    "   if len(a) == 0:\n",
    "       print(\"Empty list!\")\n",
    "   else:\n",
    "       return {str(i):a.count(i) for i in set(a)}\n",
    "\n",
    "create_dict_from_list(list_a)"
   ]
  },
  {
   "cell_type": "code",
   "execution_count": 4,
   "metadata": {},
   "outputs": [
    {
     "name": "stdout",
     "output_type": "stream",
     "text": [
      "5\n"
     ]
    }
   ],
   "source": [
    "s='how many words are in here'\n",
    "len(s)\n",
    "count=0\n",
    "for item in s:\n",
    "    if item == ' ':\n",
    "        count+=1\n",
    "print(count+1)                "
   ]
  },
  {
   "cell_type": "code",
   "execution_count": 5,
   "metadata": {},
   "outputs": [
    {
     "data": {
      "text/plain": [
       "6"
      ]
     },
     "execution_count": 5,
     "metadata": {},
     "output_type": "execute_result"
    }
   ],
   "source": [
    "aa=['the', 'cow', 'jumped', 'over', 'the', 'moon']\n",
    "len(aa)"
   ]
  },
  {
   "cell_type": "code",
   "execution_count": null,
   "metadata": {},
   "outputs": [],
   "source": []
  }
 ],
 "metadata": {
  "kernelspec": {
   "display_name": "Python 3",
   "language": "python",
   "name": "python3"
  },
  "language_info": {
   "codemirror_mode": {
    "name": "ipython",
    "version": 3
   },
   "file_extension": ".py",
   "mimetype": "text/x-python",
   "name": "python",
   "nbconvert_exporter": "python",
   "pygments_lexer": "ipython3",
   "version": "3.6.4"
  }
 },
 "nbformat": 4,
 "nbformat_minor": 2
}
