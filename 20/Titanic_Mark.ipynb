{
 "cells": [
  {
   "cell_type": "markdown",
   "metadata": {},
   "source": [
    "## Importing Stuff"
   ]
  },
  {
   "cell_type": "code",
   "execution_count": 62,
   "metadata": {},
   "outputs": [],
   "source": [
    "import numpy as np\n",
    "import pandas as pd\n",
    "import matplotlib.pyplot as plt\n",
    "from sklearn.naive_bayes import MultinomialNB, BernoulliNB\n",
    "from sklearn import metrics\n",
    "from sklearn.model_selection import train_test_split, cross_validate\n",
    "import seaborn as sns\n",
    "from sklearn.tree import DecisionTreeClassifier\n",
    "from sklearn.ensemble import RandomForestClassifier, RandomForestRegressor\n",
    "from sklearn.svm import SVC\n",
    "from sklearn.ensemble import VotingClassifier, AdaBoostClassifier\n",
    "from sklearn.pipeline import make_pipeline\n",
    "from sklearn.preprocessing import StandardScaler\n",
    "\n",
    "from sklearn.metrics import precision_recall_curve, roc_curve, confusion_matrix"
   ]
  },
  {
   "cell_type": "markdown",
   "metadata": {},
   "source": [
    "## Viewing the dataset"
   ]
  },
  {
   "cell_type": "markdown",
   "metadata": {},
   "source": [
    "Let's take a view into the dataset itself."
   ]
  },
  {
   "cell_type": "code",
   "execution_count": 2,
   "metadata": {
    "scrolled": true
   },
   "outputs": [],
   "source": [
    "data = pd.read_csv(\"datasets/titanic_train.csv\", index_col='PassengerId')\n",
    "data_validate = pd.read_csv(\"datasets/titanic_test.csv\", index_col='PassengerId')"
   ]
  },
  {
   "cell_type": "code",
   "execution_count": 3,
   "metadata": {
    "scrolled": true
   },
   "outputs": [
    {
     "data": {
      "text/html": [
       "<div>\n",
       "<style scoped>\n",
       "    .dataframe tbody tr th:only-of-type {\n",
       "        vertical-align: middle;\n",
       "    }\n",
       "\n",
       "    .dataframe tbody tr th {\n",
       "        vertical-align: top;\n",
       "    }\n",
       "\n",
       "    .dataframe thead th {\n",
       "        text-align: right;\n",
       "    }\n",
       "</style>\n",
       "<table border=\"1\" class=\"dataframe\">\n",
       "  <thead>\n",
       "    <tr style=\"text-align: right;\">\n",
       "      <th></th>\n",
       "      <th>Survived</th>\n",
       "      <th>Pclass</th>\n",
       "      <th>Name</th>\n",
       "      <th>Sex</th>\n",
       "      <th>Age</th>\n",
       "      <th>SibSp</th>\n",
       "      <th>Parch</th>\n",
       "      <th>Ticket</th>\n",
       "      <th>Fare</th>\n",
       "      <th>Cabin</th>\n",
       "      <th>Embarked</th>\n",
       "    </tr>\n",
       "    <tr>\n",
       "      <th>PassengerId</th>\n",
       "      <th></th>\n",
       "      <th></th>\n",
       "      <th></th>\n",
       "      <th></th>\n",
       "      <th></th>\n",
       "      <th></th>\n",
       "      <th></th>\n",
       "      <th></th>\n",
       "      <th></th>\n",
       "      <th></th>\n",
       "      <th></th>\n",
       "    </tr>\n",
       "  </thead>\n",
       "  <tbody>\n",
       "    <tr>\n",
       "      <th>1</th>\n",
       "      <td>0</td>\n",
       "      <td>3</td>\n",
       "      <td>Braund, Mr. Owen Harris</td>\n",
       "      <td>male</td>\n",
       "      <td>22.0</td>\n",
       "      <td>1</td>\n",
       "      <td>0</td>\n",
       "      <td>A/5 21171</td>\n",
       "      <td>7.2500</td>\n",
       "      <td>NaN</td>\n",
       "      <td>S</td>\n",
       "    </tr>\n",
       "    <tr>\n",
       "      <th>2</th>\n",
       "      <td>1</td>\n",
       "      <td>1</td>\n",
       "      <td>Cumings, Mrs. John Bradley (Florence Briggs Th...</td>\n",
       "      <td>female</td>\n",
       "      <td>38.0</td>\n",
       "      <td>1</td>\n",
       "      <td>0</td>\n",
       "      <td>PC 17599</td>\n",
       "      <td>71.2833</td>\n",
       "      <td>C85</td>\n",
       "      <td>C</td>\n",
       "    </tr>\n",
       "    <tr>\n",
       "      <th>3</th>\n",
       "      <td>1</td>\n",
       "      <td>3</td>\n",
       "      <td>Heikkinen, Miss. Laina</td>\n",
       "      <td>female</td>\n",
       "      <td>26.0</td>\n",
       "      <td>0</td>\n",
       "      <td>0</td>\n",
       "      <td>STON/O2. 3101282</td>\n",
       "      <td>7.9250</td>\n",
       "      <td>NaN</td>\n",
       "      <td>S</td>\n",
       "    </tr>\n",
       "    <tr>\n",
       "      <th>4</th>\n",
       "      <td>1</td>\n",
       "      <td>1</td>\n",
       "      <td>Futrelle, Mrs. Jacques Heath (Lily May Peel)</td>\n",
       "      <td>female</td>\n",
       "      <td>35.0</td>\n",
       "      <td>1</td>\n",
       "      <td>0</td>\n",
       "      <td>113803</td>\n",
       "      <td>53.1000</td>\n",
       "      <td>C123</td>\n",
       "      <td>S</td>\n",
       "    </tr>\n",
       "    <tr>\n",
       "      <th>5</th>\n",
       "      <td>0</td>\n",
       "      <td>3</td>\n",
       "      <td>Allen, Mr. William Henry</td>\n",
       "      <td>male</td>\n",
       "      <td>35.0</td>\n",
       "      <td>0</td>\n",
       "      <td>0</td>\n",
       "      <td>373450</td>\n",
       "      <td>8.0500</td>\n",
       "      <td>NaN</td>\n",
       "      <td>S</td>\n",
       "    </tr>\n",
       "  </tbody>\n",
       "</table>\n",
       "</div>"
      ],
      "text/plain": [
       "             Survived  Pclass  \\\n",
       "PassengerId                     \n",
       "1                   0       3   \n",
       "2                   1       1   \n",
       "3                   1       3   \n",
       "4                   1       1   \n",
       "5                   0       3   \n",
       "\n",
       "                                                          Name     Sex   Age  \\\n",
       "PassengerId                                                                    \n",
       "1                                      Braund, Mr. Owen Harris    male  22.0   \n",
       "2            Cumings, Mrs. John Bradley (Florence Briggs Th...  female  38.0   \n",
       "3                                       Heikkinen, Miss. Laina  female  26.0   \n",
       "4                 Futrelle, Mrs. Jacques Heath (Lily May Peel)  female  35.0   \n",
       "5                                     Allen, Mr. William Henry    male  35.0   \n",
       "\n",
       "             SibSp  Parch            Ticket     Fare Cabin Embarked  \n",
       "PassengerId                                                          \n",
       "1                1      0         A/5 21171   7.2500   NaN        S  \n",
       "2                1      0          PC 17599  71.2833   C85        C  \n",
       "3                0      0  STON/O2. 3101282   7.9250   NaN        S  \n",
       "4                1      0            113803  53.1000  C123        S  \n",
       "5                0      0            373450   8.0500   NaN        S  "
      ]
     },
     "execution_count": 3,
     "metadata": {},
     "output_type": "execute_result"
    }
   ],
   "source": [
    "data.head()"
   ]
  },
  {
   "cell_type": "code",
   "execution_count": 4,
   "metadata": {},
   "outputs": [
    {
     "data": {
      "text/plain": [
       "False    714\n",
       "True     177\n",
       "Name: Age, dtype: int64"
      ]
     },
     "execution_count": 4,
     "metadata": {},
     "output_type": "execute_result"
    }
   ],
   "source": [
    "data.Age.isnull().value_counts()"
   ]
  },
  {
   "cell_type": "code",
   "execution_count": 67,
   "metadata": {},
   "outputs": [
    {
     "data": {
      "text/plain": [
       "0    0.616162\n",
       "1    0.383838\n",
       "Name: Survived, dtype: float64"
      ]
     },
     "execution_count": 67,
     "metadata": {},
     "output_type": "execute_result"
    }
   ],
   "source": [
    "data.Survived.value_counts(normalize=True)"
   ]
  },
  {
   "cell_type": "code",
   "execution_count": 6,
   "metadata": {},
   "outputs": [
    {
     "name": "stdout",
     "output_type": "stream",
     "text": [
      "<class 'pandas.core.frame.DataFrame'>\n",
      "Int64Index: 891 entries, 1 to 891\n",
      "Data columns (total 11 columns):\n",
      "Survived    891 non-null int64\n",
      "Pclass      891 non-null int64\n",
      "Name        891 non-null object\n",
      "Sex         891 non-null object\n",
      "Age         714 non-null float64\n",
      "SibSp       891 non-null int64\n",
      "Parch       891 non-null int64\n",
      "Ticket      891 non-null object\n",
      "Fare        891 non-null float64\n",
      "Cabin       204 non-null object\n",
      "Embarked    889 non-null object\n",
      "dtypes: float64(2), int64(4), object(5)\n",
      "memory usage: 83.5+ KB\n"
     ]
    }
   ],
   "source": [
    "data.info()"
   ]
  },
  {
   "cell_type": "markdown",
   "metadata": {},
   "source": [
    "## Cleaning and Wrangling the Data"
   ]
  },
  {
   "cell_type": "markdown",
   "metadata": {},
   "source": [
    "We see that there are 891 entries in the dataset and 12 columns including the PassengerId as the index.\n",
    "\n",
    "Of the 891 entries for Cabin 687 entries in total are null. This means that there isn't much we can do with the information about the cabin.\n",
    "\n",
    "In addition, both the Ticket and Fare columns are more or less random. Furthermore, PassengerId is only a unique identifier and will not affect our model.\n",
    "\n",
    "While it is possible to separate the Name into titles alone, I believe it is not needed.\n",
    "\n",
    "So all of them are dropped."
   ]
  },
  {
   "cell_type": "markdown",
   "metadata": {},
   "source": [
    "\n",
    "We note that there 177 entries for Age do not exist. Instead of deleting these entries completely, we shall instead fill these age columns with the median age. We choose median over mean because there are both babies(Age is a fraction less than one) and very old people as well which might skew the value of mean."
   ]
  },
  {
   "cell_type": "markdown",
   "metadata": {},
   "source": [
    "### My Notes\n",
    "\n",
    "First off, we really can't do anything with data_validate, because we don't have the labels (no 'Survived' column). I'm going to leave it alone and just do test/train splits, as usual.\n",
    "\n",
    "I want to try three approaches:\n",
    "\n",
    "(1) Filling in the missing age values with the median.\n",
    "\n",
    "(2) Dropping the rows with missing age values.\n",
    "\n",
    "(3) Use imputation to try and fill in the missing age values, given the other features in the data. After all, things like number of parents/children and number of siblings/spouses might correlate with age (e.g. passengers traveling alone are probably not children). "
   ]
  },
  {
   "cell_type": "markdown",
   "metadata": {},
   "source": [
    "To start, we need to convert categorical variables to numeric quantities. Let's do that for Sex and Embarked."
   ]
  },
  {
   "cell_type": "code",
   "execution_count": 7,
   "metadata": {},
   "outputs": [
    {
     "data": {
      "text/plain": [
       "male      577\n",
       "female    314\n",
       "Name: Sex, dtype: int64"
      ]
     },
     "execution_count": 7,
     "metadata": {},
     "output_type": "execute_result"
    }
   ],
   "source": [
    "data.Sex.value_counts()"
   ]
  },
  {
   "cell_type": "code",
   "execution_count": 8,
   "metadata": {},
   "outputs": [],
   "source": [
    "data.loc[:,'Sex']=data.Sex.map({'male':0,'female':1})"
   ]
  },
  {
   "cell_type": "code",
   "execution_count": 9,
   "metadata": {},
   "outputs": [
    {
     "data": {
      "text/plain": [
       "0    577\n",
       "1    314\n",
       "Name: Sex, dtype: int64"
      ]
     },
     "execution_count": 9,
     "metadata": {},
     "output_type": "execute_result"
    }
   ],
   "source": [
    "data.Sex.value_counts()"
   ]
  },
  {
   "cell_type": "code",
   "execution_count": 10,
   "metadata": {
    "scrolled": true
   },
   "outputs": [
    {
     "data": {
      "text/plain": [
       "S      644\n",
       "C      168\n",
       "Q       77\n",
       "NaN      2\n",
       "Name: Embarked, dtype: int64"
      ]
     },
     "execution_count": 10,
     "metadata": {},
     "output_type": "execute_result"
    }
   ],
   "source": [
    "data.Embarked.value_counts(dropna=False)"
   ]
  },
  {
   "cell_type": "markdown",
   "metadata": {},
   "source": [
    "There's a couple missing values for Embarked. We'll use the most common value (S/0). "
   ]
  },
  {
   "cell_type": "code",
   "execution_count": 11,
   "metadata": {},
   "outputs": [],
   "source": [
    "data.loc[:,'Embarked']=data.Embarked.map({'S':0,'C':1,'Q':2})\n",
    "data.loc[:,'Embarked']=data.Embarked.fillna(0)\n",
    "data.loc[:,'Embarked']=data.Embarked.astype('int')"
   ]
  },
  {
   "cell_type": "code",
   "execution_count": 68,
   "metadata": {
    "scrolled": false
   },
   "outputs": [
    {
     "data": {
      "text/plain": [
       "0    646\n",
       "1    168\n",
       "2     77\n",
       "Name: Embarked, dtype: int64"
      ]
     },
     "execution_count": 68,
     "metadata": {},
     "output_type": "execute_result"
    }
   ],
   "source": [
    "data.Embarked.value_counts(dropna=False)"
   ]
  },
  {
   "cell_type": "code",
   "execution_count": 13,
   "metadata": {
    "scrolled": true
   },
   "outputs": [
    {
     "name": "stdout",
     "output_type": "stream",
     "text": [
      "<class 'pandas.core.frame.DataFrame'>\n",
      "Int64Index: 891 entries, 1 to 891\n",
      "Data columns (total 11 columns):\n",
      "Survived    891 non-null int64\n",
      "Pclass      891 non-null int64\n",
      "Name        891 non-null object\n",
      "Sex         891 non-null int64\n",
      "Age         714 non-null float64\n",
      "SibSp       891 non-null int64\n",
      "Parch       891 non-null int64\n",
      "Ticket      891 non-null object\n",
      "Fare        891 non-null float64\n",
      "Cabin       204 non-null object\n",
      "Embarked    891 non-null int64\n",
      "dtypes: float64(2), int64(6), object(3)\n",
      "memory usage: 83.5+ KB\n"
     ]
    }
   ],
   "source": [
    "data.info()"
   ]
  },
  {
   "cell_type": "markdown",
   "metadata": {},
   "source": [
    "Now let's create our two DFs: One where we fill in the missing Age's with the median, and the other where we drop rows with missing ages."
   ]
  },
  {
   "cell_type": "code",
   "execution_count": 14,
   "metadata": {},
   "outputs": [],
   "source": [
    "data_drop=data.dropna(subset=['Age']).copy()\n",
    "data_fill=data.copy()"
   ]
  },
  {
   "cell_type": "code",
   "execution_count": 15,
   "metadata": {
    "scrolled": false
   },
   "outputs": [
    {
     "data": {
      "text/plain": [
       "28.0"
      ]
     },
     "execution_count": 15,
     "metadata": {},
     "output_type": "execute_result"
    }
   ],
   "source": [
    "data.Age.median()"
   ]
  },
  {
   "cell_type": "code",
   "execution_count": 16,
   "metadata": {},
   "outputs": [],
   "source": [
    "data_fill.loc[:,'Age']=data_fill.Age.fillna(data.Age.median())"
   ]
  },
  {
   "cell_type": "markdown",
   "metadata": {},
   "source": [
    "### Bin Ages\n",
    "\n",
    "Nearly all of the variables that we want to use for our features are discrete, categorical values that do not follow a Gaussian distribution. For these variables, the best Naive Bayes model we can use is the Multinomial Naive Bayes, MultinomialNB. The one exception is the Age variable. To accommodate for age, let's bin the age into buckets. I've chosen 4 buckets: 0-12, 12-24, 24-36, 36+. "
   ]
  },
  {
   "cell_type": "code",
   "execution_count": 17,
   "metadata": {},
   "outputs": [],
   "source": [
    "data_fill['Age_bins']=pd.cut(data_fill.Age,[0,12,24,36,100], labels=range(4)).astype('int')\n",
    "data_drop['Age_bins']=pd.cut(data_drop.Age,[0,12,24,36,100], labels=range(4)).astype('int')"
   ]
  },
  {
   "cell_type": "code",
   "execution_count": 18,
   "metadata": {},
   "outputs": [
    {
     "name": "stdout",
     "output_type": "stream",
     "text": [
      "<class 'pandas.core.frame.DataFrame'>\n",
      "Int64Index: 891 entries, 1 to 891\n",
      "Data columns (total 12 columns):\n",
      "Survived    891 non-null int64\n",
      "Pclass      891 non-null int64\n",
      "Name        891 non-null object\n",
      "Sex         891 non-null int64\n",
      "Age         891 non-null float64\n",
      "SibSp       891 non-null int64\n",
      "Parch       891 non-null int64\n",
      "Ticket      891 non-null object\n",
      "Fare        891 non-null float64\n",
      "Cabin       204 non-null object\n",
      "Embarked    891 non-null int64\n",
      "Age_bins    891 non-null int64\n",
      "dtypes: float64(2), int64(7), object(3)\n",
      "memory usage: 90.5+ KB\n"
     ]
    }
   ],
   "source": [
    "data_fill.info()"
   ]
  },
  {
   "cell_type": "code",
   "execution_count": 19,
   "metadata": {
    "scrolled": false
   },
   "outputs": [
    {
     "data": {
      "image/png": "[encoded data removed]",
      "text/plain": [
       "<matplotlib.figure.Figure at 0x1a157cc668>"
      ]
     },
     "metadata": {},
     "output_type": "display_data"
    }
   ],
   "source": [
    "data_fill.hist();"
   ]
  },
  {
   "cell_type": "code",
   "execution_count": 20,
   "metadata": {
    "scrolled": true
   },
   "outputs": [
    {
     "data": {
      "image/png": "[encoded data removed]",
      "text/plain": [
       "<matplotlib.figure.Figure at 0x1a1ea70710>"
      ]
     },
     "metadata": {},
     "output_type": "display_data"
    }
   ],
   "source": [
    "data_drop.Age.hist();"
   ]
  },
  {
   "cell_type": "code",
   "execution_count": 21,
   "metadata": {},
   "outputs": [
    {
     "data": {
      "text/plain": [
       "Index(['Survived', 'Pclass', 'Name', 'Sex', 'Age', 'SibSp', 'Parch', 'Ticket',\n",
       "       'Fare', 'Cabin', 'Embarked', 'Age_bins'],\n",
       "      dtype='object')"
      ]
     },
     "execution_count": 21,
     "metadata": {},
     "output_type": "execute_result"
    }
   ],
   "source": [
    "data_fill.columns"
   ]
  },
  {
   "cell_type": "markdown",
   "metadata": {},
   "source": [
    "## Function Definitions"
   ]
  },
  {
   "cell_type": "code",
   "execution_count": 22,
   "metadata": {},
   "outputs": [],
   "source": [
    "def print_metric(metric,scores):\n",
    "    test_metric='test_'+metric\n",
    "    train_metric='train_'+metric\n",
    "    print(\"Mean test/train %s: %.3f \\u00B1 %.4f / %.3f \\u00B1 %.4f\" % \\\n",
    "          (metric, scores[test_metric].mean(), scores[test_metric].std(), \\\n",
    "           scores[train_metric].mean(), scores[train_metric].std()))"
   ]
  },
  {
   "cell_type": "code",
   "execution_count": 23,
   "metadata": {},
   "outputs": [],
   "source": [
    "def print_model_metrics(model,data,features,label,n_folds):\n",
    "    metrics=['accuracy','precision_macro','recall_macro','f1_macro']\n",
    "    scores = cross_validate(model, data[features], data[label], scoring=metrics, cv=n_folds, return_train_score=True)\n",
    "    for metric in metrics:\n",
    "        print_metric(metric,scores)"
   ]
  },
  {
   "cell_type": "markdown",
   "metadata": {
    "collapsed": true
   },
   "source": [
    "## Splitting up the data"
   ]
  },
  {
   "cell_type": "markdown",
   "metadata": {
    "collapsed": true
   },
   "source": [
    "We can now split the data into the labels and features."
   ]
  },
  {
   "cell_type": "code",
   "execution_count": 24,
   "metadata": {},
   "outputs": [],
   "source": [
    "features=['Pclass', 'Sex', 'Age_bins', 'SibSp', 'Parch','Embarked']\n",
    "label='Survived'"
   ]
  },
  {
   "cell_type": "markdown",
   "metadata": {},
   "source": [
    "## NAIVE BAYES MODEL"
   ]
  },
  {
   "cell_type": "code",
   "execution_count": 25,
   "metadata": {
    "scrolled": false
   },
   "outputs": [
    {
     "name": "stdout",
     "output_type": "stream",
     "text": [
      "Mean test/train accuracy: 0.789 ± 0.0303 / 0.793 ± 0.0050\n",
      "Mean test/train precision_macro: 0.782 ± 0.0337 / 0.786 ± 0.0060\n",
      "Mean test/train recall_macro: 0.766 ± 0.0347 / 0.770 ± 0.0049\n",
      "Mean test/train f1_macro: 0.771 ± 0.0339 / 0.776 ± 0.0052\n"
     ]
    }
   ],
   "source": [
    "mnb=MultinomialNB()\n",
    "print_model_metrics(mnb,data_fill,features,label,10)"
   ]
  },
  {
   "cell_type": "code",
   "execution_count": 26,
   "metadata": {
    "scrolled": false
   },
   "outputs": [
    {
     "name": "stdout",
     "output_type": "stream",
     "text": [
      "Mean test/train accuracy: 0.777 ± 0.0420 / 0.783 ± 0.0068\n",
      "Mean test/train precision_macro: 0.773 ± 0.0432 / 0.778 ± 0.0071\n",
      "Mean test/train recall_macro: 0.763 ± 0.0482 / 0.769 ± 0.0074\n",
      "Mean test/train f1_macro: 0.765 ± 0.0472 / 0.772 ± 0.0073\n"
     ]
    }
   ],
   "source": [
    "mnb=MultinomialNB()\n",
    "print_model_metrics(mnb,data_drop,features,label,10)"
   ]
  },
  {
   "cell_type": "markdown",
   "metadata": {},
   "source": [
    "Overall, these are great initial results! We are getting ~80% precision/recall/accuracy for both the survived=0 and survived=1. Also, the train and test metrics are similar, indicating we haven't overfit the data. Finally, data_fill and data_drop give similar precision/recall (within standard deviation of the cross-validated models), but data_fill has slightly better overall accuracy."
   ]
  },
  {
   "cell_type": "markdown",
   "metadata": {},
   "source": [
    "The main hyperparameter for Naive Bayes is alpha, the smoothing parameter. Let's see if we get better results with different values of alpha. We'll use data_fill for now. "
   ]
  },
  {
   "cell_type": "code",
   "execution_count": 27,
   "metadata": {},
   "outputs": [
    {
     "name": "stdout",
     "output_type": "stream",
     "text": [
      "RESULTS FOR MODEL WITH alpha=0.25\n",
      "Mean test/train accuracy: 0.789 ± 0.0303 / 0.793 ± 0.0048\n",
      "Mean test/train precision_macro: 0.782 ± 0.0337 / 0.786 ± 0.0056\n",
      "Mean test/train recall_macro: 0.766 ± 0.0347 / 0.771 ± 0.0049\n",
      "Mean test/train f1_macro: 0.771 ± 0.0339 / 0.776 ± 0.0051\n",
      "\n",
      "\n",
      "RESULTS FOR MODEL WITH alpha=0.50\n",
      "Mean test/train accuracy: 0.789 ± 0.0303 / 0.793 ± 0.0048\n",
      "Mean test/train precision_macro: 0.782 ± 0.0337 / 0.786 ± 0.0057\n",
      "Mean test/train recall_macro: 0.766 ± 0.0347 / 0.771 ± 0.0048\n",
      "Mean test/train f1_macro: 0.771 ± 0.0339 / 0.776 ± 0.0050\n",
      "\n",
      "\n",
      "RESULTS FOR MODEL WITH alpha=0.75\n",
      "Mean test/train accuracy: 0.789 ± 0.0303 / 0.793 ± 0.0050\n",
      "Mean test/train precision_macro: 0.782 ± 0.0337 / 0.786 ± 0.0061\n",
      "Mean test/train recall_macro: 0.766 ± 0.0347 / 0.771 ± 0.0048\n",
      "Mean test/train f1_macro: 0.771 ± 0.0339 / 0.776 ± 0.0051\n",
      "\n",
      "\n",
      "RESULTS FOR MODEL WITH alpha=1.00\n",
      "Mean test/train accuracy: 0.789 ± 0.0303 / 0.793 ± 0.0050\n",
      "Mean test/train precision_macro: 0.782 ± 0.0337 / 0.786 ± 0.0060\n",
      "Mean test/train recall_macro: 0.766 ± 0.0347 / 0.770 ± 0.0049\n",
      "Mean test/train f1_macro: 0.771 ± 0.0339 / 0.776 ± 0.0052\n",
      "\n",
      "\n"
     ]
    }
   ],
   "source": [
    "for n in range(1,5):\n",
    "    alpha_var=n*0.25\n",
    "    print(\"RESULTS FOR MODEL WITH alpha=%.2f\" % alpha_var)\n",
    "    mnb=MultinomialNB(alpha=alpha_var)\n",
    "    print_model_metrics(mnb,data_fill,features,label, 10)\n",
    "    print('\\n')"
   ]
  },
  {
   "cell_type": "markdown",
   "metadata": {},
   "source": [
    "Change alpha seems to have NO EFFECT on the results. I'm not sure what that means about the model, but it seems that there's no reason to choose a value of alpha other than the default value of 1. "
   ]
  },
  {
   "cell_type": "markdown",
   "metadata": {},
   "source": [
    "### IMPUTE MISSING AGE BINS."
   ]
  },
  {
   "cell_type": "code",
   "execution_count": 28,
   "metadata": {},
   "outputs": [],
   "source": [
    "features_age=['Pclass', 'Sex', 'SibSp', 'Parch','Embarked']\n",
    "label_age='Age_bins'"
   ]
  },
  {
   "cell_type": "code",
   "execution_count": 29,
   "metadata": {},
   "outputs": [
    {
     "name": "stdout",
     "output_type": "stream",
     "text": [
      "Mean test/train accuracy: 0.386 ± 0.0608 / 0.391 ± 0.0103\n",
      "Mean test/train precision_macro: 0.326 ± 0.1243 / 0.338 ± 0.0463\n",
      "Mean test/train recall_macro: 0.373 ± 0.0765 / 0.379 ± 0.0119\n",
      "Mean test/train f1_macro: 0.316 ± 0.0829 / 0.327 ± 0.0176\n"
     ]
    },
    {
     "name": "stderr",
     "output_type": "stream",
     "text": [
      "/Users/mark.henle/anaconda3/lib/python3.6/site-packages/sklearn/metrics/classification.py:1135: UndefinedMetricWarning: Precision is ill-defined and being set to 0.0 in labels with no predicted samples.\n",
      "  'precision', 'predicted', average, warn_for)\n",
      "/Users/mark.henle/anaconda3/lib/python3.6/site-packages/sklearn/metrics/classification.py:1135: UndefinedMetricWarning: F-score is ill-defined and being set to 0.0 in labels with no predicted samples.\n",
      "  'precision', 'predicted', average, warn_for)\n",
      "/Users/mark.henle/anaconda3/lib/python3.6/site-packages/sklearn/metrics/classification.py:1135: UndefinedMetricWarning: Precision is ill-defined and being set to 0.0 in labels with no predicted samples.\n",
      "  'precision', 'predicted', average, warn_for)\n",
      "/Users/mark.henle/anaconda3/lib/python3.6/site-packages/sklearn/metrics/classification.py:1135: UndefinedMetricWarning: F-score is ill-defined and being set to 0.0 in labels with no predicted samples.\n",
      "  'precision', 'predicted', average, warn_for)\n",
      "/Users/mark.henle/anaconda3/lib/python3.6/site-packages/sklearn/metrics/classification.py:1135: UndefinedMetricWarning: Precision is ill-defined and being set to 0.0 in labels with no predicted samples.\n",
      "  'precision', 'predicted', average, warn_for)\n",
      "/Users/mark.henle/anaconda3/lib/python3.6/site-packages/sklearn/metrics/classification.py:1135: UndefinedMetricWarning: F-score is ill-defined and being set to 0.0 in labels with no predicted samples.\n",
      "  'precision', 'predicted', average, warn_for)\n",
      "/Users/mark.henle/anaconda3/lib/python3.6/site-packages/sklearn/metrics/classification.py:1135: UndefinedMetricWarning: Precision is ill-defined and being set to 0.0 in labels with no predicted samples.\n",
      "  'precision', 'predicted', average, warn_for)\n",
      "/Users/mark.henle/anaconda3/lib/python3.6/site-packages/sklearn/metrics/classification.py:1135: UndefinedMetricWarning: F-score is ill-defined and being set to 0.0 in labels with no predicted samples.\n",
      "  'precision', 'predicted', average, warn_for)\n",
      "/Users/mark.henle/anaconda3/lib/python3.6/site-packages/sklearn/metrics/classification.py:1135: UndefinedMetricWarning: Precision is ill-defined and being set to 0.0 in labels with no predicted samples.\n",
      "  'precision', 'predicted', average, warn_for)\n",
      "/Users/mark.henle/anaconda3/lib/python3.6/site-packages/sklearn/metrics/classification.py:1135: UndefinedMetricWarning: F-score is ill-defined and being set to 0.0 in labels with no predicted samples.\n",
      "  'precision', 'predicted', average, warn_for)\n"
     ]
    }
   ],
   "source": [
    "mnb_age=MultinomialNB()\n",
    "print_model_metrics(mnb_age,data_drop,features_age,label_age,10)"
   ]
  },
  {
   "cell_type": "markdown",
   "metadata": {},
   "source": [
    "### Imputation Results\n",
    "\n",
    "The precision/recall is not great, but it's probably better than a random guess of a median age, particularly given the relatively even distribution of ages in the bins we've created. Let's see if we get better results using these results to populate the missing ages"
   ]
  },
  {
   "cell_type": "code",
   "execution_count": 30,
   "metadata": {
    "scrolled": true
   },
   "outputs": [
    {
     "data": {
      "text/plain": [
       "2    242\n",
       "1    208\n",
       "3    195\n",
       "0     69\n",
       "Name: Age_bins, dtype: int64"
      ]
     },
     "execution_count": 30,
     "metadata": {},
     "output_type": "execute_result"
    }
   ],
   "source": [
    "data_drop.Age_bins.value_counts(dropna=False)"
   ]
  },
  {
   "cell_type": "code",
   "execution_count": 31,
   "metadata": {},
   "outputs": [],
   "source": [
    "mnb_age=MultinomialNB()\n",
    "mnb_age.fit(data_drop[features_age],data_drop[label_age])\n",
    "\n",
    "data_impute=data.copy()\n",
    "data_impute['Age_bins']=pd.cut(data_impute.Age,[0,12,24,36,100], labels=range(4)).astype('int')\n",
    "data_impute.loc[data_impute.Age.isnull(),'Age_bins']=\\\n",
    "mnb_age.predict(data_impute.loc[data_impute.Age.isnull(),features_age])"
   ]
  },
  {
   "cell_type": "code",
   "execution_count": 32,
   "metadata": {
    "scrolled": false
   },
   "outputs": [
    {
     "data": {
      "text/plain": [
       "0     80\n",
       "1    208\n",
       "2    399\n",
       "3    204\n",
       "Name: Age_bins, dtype: int64"
      ]
     },
     "execution_count": 32,
     "metadata": {},
     "output_type": "execute_result"
    }
   ],
   "source": [
    "data_impute.Age_bins.value_counts(dropna=False,sort=False)"
   ]
  },
  {
   "cell_type": "code",
   "execution_count": 33,
   "metadata": {
    "scrolled": false
   },
   "outputs": [
    {
     "name": "stdout",
     "output_type": "stream",
     "text": [
      "Mean test/train accuracy: 0.786 ± 0.0425 / 0.792 ± 0.0041\n",
      "Mean test/train precision_macro: 0.783 ± 0.0487 / 0.785 ± 0.0052\n",
      "Mean test/train recall_macro: 0.763 ± 0.0492 / 0.769 ± 0.0036\n",
      "Mean test/train f1_macro: 0.767 ± 0.0483 / 0.775 ± 0.0040\n"
     ]
    }
   ],
   "source": [
    "mnb_age=MultinomialNB()\n",
    "print_model_metrics(mnb_age,data_impute,features,label,20)"
   ]
  },
  {
   "cell_type": "markdown",
   "metadata": {},
   "source": [
    "As a reminder, here are the metrics for the data where we fill in missing Ages with the median and where we drop those rows."
   ]
  },
  {
   "cell_type": "code",
   "execution_count": 34,
   "metadata": {
    "scrolled": false
   },
   "outputs": [
    {
     "name": "stdout",
     "output_type": "stream",
     "text": [
      "Mean test/train accuracy: 0.789 ± 0.0418 / 0.793 ± 0.0034\n",
      "Mean test/train precision_macro: 0.786 ± 0.0480 / 0.785 ± 0.0041\n",
      "Mean test/train recall_macro: 0.765 ± 0.0485 / 0.770 ± 0.0034\n",
      "Mean test/train f1_macro: 0.769 ± 0.0476 / 0.775 ± 0.0036\n"
     ]
    }
   ],
   "source": [
    "mnb=MultinomialNB()\n",
    "print_model_metrics(mnb,data_fill,features,label,20)"
   ]
  },
  {
   "cell_type": "code",
   "execution_count": 35,
   "metadata": {
    "scrolled": false
   },
   "outputs": [
    {
     "name": "stdout",
     "output_type": "stream",
     "text": [
      "Mean test/train accuracy: 0.774 ± 0.0605 / 0.783 ± 0.0037\n",
      "Mean test/train precision_macro: 0.780 ± 0.0675 / 0.778 ± 0.0039\n",
      "Mean test/train recall_macro: 0.760 ± 0.0615 / 0.769 ± 0.0041\n",
      "Mean test/train f1_macro: 0.761 ± 0.0624 / 0.772 ± 0.0040\n"
     ]
    }
   ],
   "source": [
    "mnb=MultinomialNB()\n",
    "print_model_metrics(mnb,data_drop,features,label,20)"
   ]
  },
  {
   "cell_type": "markdown",
   "metadata": {},
   "source": [
    "### Results: Survived Prediction with Age bin Impution\n",
    "\n",
    "The data_impute metrics are essentially identical to the data_fill metrics. Both are better than the data_drop metrics. So unfortunately, it seems that a Naive Bayes model is not particularly effective in determining Age from the other features in the data."
   ]
  },
  {
   "cell_type": "markdown",
   "metadata": {},
   "source": [
    "## RANDOM FOREST MODEL"
   ]
  },
  {
   "cell_type": "markdown",
   "metadata": {},
   "source": [
    "Let's see if we get better results from a Random Forest model. I've done some hyper-parameter tuning and found that limiting the max depth was an effective way to prevent overfitting and thus get better test metrics. I also found that the default options of bootstrapping and limiting the number of features when looking for the best split gave slightly worse results than not doing either of those things."
   ]
  },
  {
   "cell_type": "code",
   "execution_count": 36,
   "metadata": {
    "scrolled": true
   },
   "outputs": [
    {
     "name": "stdout",
     "output_type": "stream",
     "text": [
      "Mean test/train accuracy: 0.824 ± 0.0543 / 0.859 ± 0.0035\n",
      "Mean test/train precision_macro: 0.828 ± 0.0590 / 0.867 ± 0.0048\n",
      "Mean test/train recall_macro: 0.797 ± 0.0644 / 0.833 ± 0.0048\n",
      "Mean test/train f1_macro: 0.804 ± 0.0633 / 0.844 ± 0.0042\n"
     ]
    }
   ],
   "source": [
    "rf=RandomForestClassifier(random_state=1212, n_jobs=-1, max_depth=8)\n",
    "print_model_metrics(rf,data_fill,features,label,20)"
   ]
  },
  {
   "cell_type": "code",
   "execution_count": 37,
   "metadata": {
    "scrolled": false
   },
   "outputs": [
    {
     "name": "stdout",
     "output_type": "stream",
     "text": [
      "Mean test/train accuracy: 0.824 ± 0.0466 / 0.838 ± 0.0049\n",
      "Mean test/train precision_macro: 0.833 ± 0.0524 / 0.846 ± 0.0085\n",
      "Mean test/train recall_macro: 0.794 ± 0.0563 / 0.810 ± 0.0077\n",
      "Mean test/train f1_macro: 0.803 ± 0.0555 / 0.821 ± 0.0062\n"
     ]
    }
   ],
   "source": [
    "rf=RandomForestClassifier(random_state=1212, n_jobs=-1, max_depth=4)\n",
    "print_model_metrics(rf,data_fill,features,label,20)"
   ]
  },
  {
   "cell_type": "code",
   "execution_count": 38,
   "metadata": {
    "scrolled": true
   },
   "outputs": [
    {
     "name": "stdout",
     "output_type": "stream",
     "text": [
      "Mean test/train accuracy: 0.835 ± 0.0475 / 0.836 ± 0.0026\n",
      "Mean test/train precision_macro: 0.856 ± 0.0500 / 0.856 ± 0.0028\n",
      "Mean test/train recall_macro: 0.799 ± 0.0581 / 0.799 ± 0.0031\n",
      "Mean test/train f1_macro: 0.811 ± 0.0582 / 0.814 ± 0.0032\n"
     ]
    }
   ],
   "source": [
    "# This gives the best results.\n",
    "rf=RandomForestClassifier(random_state=1212, n_jobs=-1, max_depth=4,max_features=None,bootstrap=False)\n",
    "print_model_metrics(rf,data_fill,features,label,20)"
   ]
  },
  {
   "cell_type": "markdown",
   "metadata": {},
   "source": [
    "This is a marginal improvement over the Naive Bayes metrics; the f1 score is 0.81 vs. 0.77 for the Naive Bayes model (both using the data_fill dataset). I've tried different random states for the RF model and the results are similar. \n",
    "\n",
    "Also note how the best RF model gives nearly identical metrics for the test and train dataset, indicating it is \"well fit\" (not overfit or underfit). Excellent!"
   ]
  },
  {
   "cell_type": "markdown",
   "metadata": {},
   "source": [
    "What if we used Age instead of the bins? We can do that for the RF model because all variables don't need to be multinomial (like with Multinomial Naive Bayes)."
   ]
  },
  {
   "cell_type": "code",
   "execution_count": 40,
   "metadata": {
    "scrolled": true
   },
   "outputs": [
    {
     "name": "stdout",
     "output_type": "stream",
     "text": [
      "Mean test/train accuracy: 0.829 ± 0.0491 / 0.837 ± 0.0030\n",
      "Mean test/train precision_macro: 0.853 ± 0.0511 / 0.861 ± 0.0025\n",
      "Mean test/train recall_macro: 0.791 ± 0.0604 / 0.799 ± 0.0040\n",
      "Mean test/train f1_macro: 0.804 ± 0.0607 / 0.814 ± 0.0039\n"
     ]
    }
   ],
   "source": [
    "features_rf=['Pclass', 'Sex', 'Age', 'SibSp', 'Parch','Embarked']\n",
    "rf=RandomForestClassifier(random_state=1212, n_jobs=-1, max_depth=4,max_features=None,bootstrap=False)\n",
    "print_model_metrics(rf,data_fill,features_rf,label,20)"
   ]
  },
  {
   "cell_type": "markdown",
   "metadata": {},
   "source": [
    "This didn't seem to help much; if anything it hurt! So our best model so far is to use the Random Forest with Age_bins as the feature."
   ]
  },
  {
   "cell_type": "markdown",
   "metadata": {},
   "source": [
    "### Feature Engineering"
   ]
  },
  {
   "cell_type": "markdown",
   "metadata": {},
   "source": [
    "I've tried a few variations on the features, and found that I could get better results from the Random Forest model if I dropped the \"Embarked\" feature and combined the \"SibSp\" and \"Parch\" features into one \"family\" feature (representing the total number of family members: siblings, spouses, parents, and children). "
   ]
  },
  {
   "cell_type": "code",
   "execution_count": 41,
   "metadata": {},
   "outputs": [],
   "source": [
    "data_fill['family']=data_fill['SibSp']+data_fill['Parch']"
   ]
  },
  {
   "cell_type": "code",
   "execution_count": 42,
   "metadata": {
    "scrolled": true
   },
   "outputs": [
    {
     "name": "stdout",
     "output_type": "stream",
     "text": [
      "Mean test/train accuracy: 0.835 ± 0.0546 / 0.839 ± 0.0028\n",
      "Mean test/train precision_macro: 0.836 ± 0.0562 / 0.837 ± 0.0028\n",
      "Mean test/train recall_macro: 0.815 ± 0.0652 / 0.818 ± 0.0034\n",
      "Mean test/train f1_macro: 0.820 ± 0.0619 / 0.825 ± 0.0032\n"
     ]
    }
   ],
   "source": [
    "features_rf=['Pclass','Sex', 'Age_bins','family']\n",
    "rf=RandomForestClassifier(random_state=1212, n_jobs=-1, max_depth=5)\n",
    "print_model_metrics(rf,data_fill,features_rf,label,20)"
   ]
  },
  {
   "cell_type": "code",
   "execution_count": 43,
   "metadata": {
    "scrolled": true
   },
   "outputs": [
    {
     "name": "stdout",
     "output_type": "stream",
     "text": [
      "Mean test/train accuracy: 0.834 ± 0.0544 / 0.840 ± 0.0028\n",
      "Mean test/train precision_macro: 0.835 ± 0.0560 / 0.838 ± 0.0028\n",
      "Mean test/train recall_macro: 0.813 ± 0.0639 / 0.818 ± 0.0034\n",
      "Mean test/train f1_macro: 0.818 ± 0.0612 / 0.826 ± 0.0032\n"
     ]
    }
   ],
   "source": [
    "features_rf=['Pclass','Sex', 'Age_bins','family']\n",
    "rf=RandomForestClassifier(random_state=1212, n_jobs=-1, max_depth=5,max_features=None,bootstrap=False)\n",
    "print_model_metrics(rf,data_fill,features_rf,label,20)"
   ]
  },
  {
   "cell_type": "markdown",
   "metadata": {},
   "source": [
    "### Impute Age_bins"
   ]
  },
  {
   "cell_type": "markdown",
   "metadata": {},
   "source": [
    "As above, let's try imputing the Age_bins (I also tried imputing the actual age using a RandomForestRegressor; the results were similar and thus not shown for brevity). "
   ]
  },
  {
   "cell_type": "code",
   "execution_count": 44,
   "metadata": {
    "scrolled": true
   },
   "outputs": [
    {
     "name": "stdout",
     "output_type": "stream",
     "text": [
      "Mean test/train accuracy: 0.460 ± 0.0624 / 0.477 ± 0.0071\n",
      "Mean test/train precision_macro: 0.487 ± 0.0703 / 0.507 ± 0.0094\n",
      "Mean test/train recall_macro: 0.499 ± 0.0781 / 0.522 ± 0.0257\n",
      "Mean test/train f1_macro: 0.444 ± 0.0672 / 0.468 ± 0.0078\n"
     ]
    }
   ],
   "source": [
    "features_rf_age=['Pclass','Sex','family']\n",
    "\n",
    "data_drop['family']=data_drop['SibSp']+data_drop['Parch']\n",
    "\n",
    "rf_age=RandomForestClassifier(random_state=1212, n_jobs=-1, max_depth=4,max_features=None,bootstrap=False)\n",
    "rf_age.fit(data_drop[features_rf_age],data_drop[label_age])\n",
    "\n",
    "print_model_metrics(rf_age,data_drop,features_rf_age,label_age,10)\n",
    "\n",
    "data_impute_rf=data.copy()\n",
    "data_impute_rf['Age_bins']=pd.cut(data_impute_rf.Age,[0,12,24,36,100], labels=range(4)).astype('int')\n",
    "data_impute_rf['family']=data_impute_rf['SibSp']+data_impute_rf['Parch']\n",
    "\n",
    "data_impute_rf.loc[data_impute_rf.Age.isnull(),'Age_bins']=\\\n",
    "rf_age.predict(data_impute_rf.loc[data_impute_rf.Age.isnull(),features_rf_age])"
   ]
  },
  {
   "cell_type": "markdown",
   "metadata": {},
   "source": [
    "That's much better than the resuls we got from our Naive Bayes imputation. "
   ]
  },
  {
   "cell_type": "code",
   "execution_count": 45,
   "metadata": {
    "scrolled": true
   },
   "outputs": [
    {
     "name": "stdout",
     "output_type": "stream",
     "text": [
      "Mean test/train accuracy: 0.823 ± 0.0519 / 0.843 ± 0.0031\n",
      "Mean test/train precision_macro: 0.821 ± 0.0537 / 0.836 ± 0.0044\n",
      "Mean test/train recall_macro: 0.808 ± 0.0641 / 0.831 ± 0.0046\n",
      "Mean test/train f1_macro: 0.808 ± 0.0597 / 0.833 ± 0.0033\n"
     ]
    }
   ],
   "source": [
    "rf=RandomForestClassifier(random_state=1212, n_jobs=-1, max_depth=4,max_features=None,bootstrap=False)\n",
    "print_model_metrics(rf,data_impute_rf,features_rf,label,20)"
   ]
  },
  {
   "cell_type": "markdown",
   "metadata": {},
   "source": [
    "Surprisingly, these results are actually  worse than the model using data_fill! Still, it's within the error range. But it indicates that imputing the Age bins didn't improve our results much as compared to using the median age. "
   ]
  },
  {
   "cell_type": "markdown",
   "metadata": {},
   "source": [
    "## SVM MODEL"
   ]
  },
  {
   "cell_type": "markdown",
   "metadata": {},
   "source": [
    "Let's try an SVM model. I did a little hyperparameter tuning and came up with this model. \n",
    "\n",
    "For simplicity, I'm using data_fill here, i.e. I'm not going to try and impute the missing ages."
   ]
  },
  {
   "cell_type": "code",
   "execution_count": 47,
   "metadata": {
    "scrolled": true
   },
   "outputs": [
    {
     "name": "stdout",
     "output_type": "stream",
     "text": [
      "Mean test/train accuracy: 0.827 ± 0.0501 / 0.838 ± 0.0035\n",
      "Mean test/train precision_macro: 0.829 ± 0.0536 / 0.837 ± 0.0046\n",
      "Mean test/train recall_macro: 0.805 ± 0.0582 / 0.815 ± 0.0037\n",
      "Mean test/train f1_macro: 0.811 ± 0.0566 / 0.823 ± 0.0037\n"
     ]
    }
   ],
   "source": [
    "svm=make_pipeline(StandardScaler(), SVC(gamma=0.1,probability=True))\n",
    "print_model_metrics(svm,data_fill,features,label,20)"
   ]
  },
  {
   "cell_type": "markdown",
   "metadata": {},
   "source": [
    "Not bad! The metrics are better than Naive Bayes and comparable to the Random Forest."
   ]
  },
  {
   "cell_type": "markdown",
   "metadata": {},
   "source": [
    "## VOTING CLASSIFIER: COMBINING ALL 3 MODELS INTO ONE"
   ]
  },
  {
   "cell_type": "markdown",
   "metadata": {},
   "source": [
    "So we have 3 models that all give good results. Can we get better results if we use all 3 models at once? We can do that using a VotingClassifier, where each model \"votes\" on the outcome, and then the results are combined in some way to get an overall prediction. I found that a \"soft\" voting works best, where each model returns a probability of a person surviving. Using the weights supplied, the probabilities are combined to get an overall probability. Because the Random Forest model was the best and the Naive Bayes model was the worst, I weighted the RF model the most and the NB model the least."
   ]
  },
  {
   "cell_type": "code",
   "execution_count": 53,
   "metadata": {},
   "outputs": [],
   "source": [
    "# I had to suppress these annoying warnings; from a quick Google search the errors are not important.\n",
    "import warnings\n",
    "warnings.simplefilter(\"ignore\", DeprecationWarning)"
   ]
  },
  {
   "cell_type": "code",
   "execution_count": 54,
   "metadata": {
    "scrolled": false
   },
   "outputs": [
    {
     "name": "stdout",
     "output_type": "stream",
     "text": [
      "Naive Bayes\n",
      "Mean test/train accuracy: 0.789 ± 0.0418 / 0.793 ± 0.0034\n",
      "Mean test/train precision_macro: 0.786 ± 0.0480 / 0.785 ± 0.0041\n",
      "Mean test/train recall_macro: 0.765 ± 0.0485 / 0.770 ± 0.0034\n",
      "Mean test/train f1_macro: 0.769 ± 0.0476 / 0.775 ± 0.0036\n",
      "\n",
      "Random Forest\n",
      "Mean test/train accuracy: 0.835 ± 0.0475 / 0.836 ± 0.0026\n",
      "Mean test/train precision_macro: 0.856 ± 0.0500 / 0.856 ± 0.0028\n",
      "Mean test/train recall_macro: 0.799 ± 0.0581 / 0.799 ± 0.0031\n",
      "Mean test/train f1_macro: 0.811 ± 0.0582 / 0.814 ± 0.0032\n",
      "\n",
      "SVM\n",
      "Mean test/train accuracy: 0.827 ± 0.0501 / 0.838 ± 0.0035\n",
      "Mean test/train precision_macro: 0.829 ± 0.0536 / 0.837 ± 0.0046\n",
      "Mean test/train recall_macro: 0.805 ± 0.0582 / 0.815 ± 0.0037\n",
      "Mean test/train f1_macro: 0.811 ± 0.0566 / 0.823 ± 0.0037\n",
      "\n",
      "VotingClassifier\n",
      "Mean test/train accuracy: 0.829 ± 0.0474 / 0.840 ± 0.0032\n",
      "Mean test/train precision_macro: 0.834 ± 0.0522 / 0.843 ± 0.0050\n",
      "Mean test/train recall_macro: 0.805 ± 0.0562 / 0.815 ± 0.0033\n",
      "Mean test/train f1_macro: 0.812 ± 0.0542 / 0.825 ± 0.0033\n"
     ]
    }
   ],
   "source": [
    "# Here's the results if we use the original features.\n",
    "svm=make_pipeline(StandardScaler(), SVC(gamma=0.1,probability=True))\n",
    "rf=RandomForestClassifier(random_state=1212, n_jobs=-1, max_depth=4,max_features=None,bootstrap=False)\n",
    "mnb=MultinomialNB()\n",
    "\n",
    "vc = VotingClassifier(estimators=[('rf', rf),('svm', svm),('mnb',mnb)], voting='soft',weights=[0.5,0.3,0.2])\n",
    "\n",
    "print('Naive Bayes')\n",
    "print_model_metrics(mnb,data_fill,features,label,20)\n",
    "print('\\nRandom Forest')\n",
    "print_model_metrics(rf,data_fill,features,label,20)\n",
    "print('\\nSVM')\n",
    "print_model_metrics(svm,data_fill,features,label,20)\n",
    "print('\\nVotingClassifier')\n",
    "print_model_metrics(vc,data_fill,features,label,20)"
   ]
  },
  {
   "cell_type": "code",
   "execution_count": 55,
   "metadata": {
    "scrolled": false
   },
   "outputs": [
    {
     "name": "stdout",
     "output_type": "stream",
     "text": [
      "Naive Bayes\n",
      "Mean test/train accuracy: 0.786 ± 0.0408 / 0.787 ± 0.0022\n",
      "Mean test/train precision_macro: 0.780 ± 0.0445 / 0.777 ± 0.0023\n",
      "Mean test/train recall_macro: 0.767 ± 0.0479 / 0.767 ± 0.0025\n",
      "Mean test/train f1_macro: 0.769 ± 0.0467 / 0.771 ± 0.0024\n",
      "\n",
      "Random Forest\n",
      "Mean test/train accuracy: 0.834 ± 0.0544 / 0.840 ± 0.0028\n",
      "Mean test/train precision_macro: 0.835 ± 0.0560 / 0.838 ± 0.0028\n",
      "Mean test/train recall_macro: 0.813 ± 0.0639 / 0.818 ± 0.0034\n",
      "Mean test/train f1_macro: 0.818 ± 0.0612 / 0.826 ± 0.0032\n",
      "\n",
      "SVM\n",
      "Mean test/train accuracy: 0.825 ± 0.0479 / 0.826 ± 0.0043\n",
      "Mean test/train precision_macro: 0.827 ± 0.0513 / 0.822 ± 0.0044\n",
      "Mean test/train recall_macro: 0.804 ± 0.0562 / 0.806 ± 0.0053\n",
      "Mean test/train f1_macro: 0.809 ± 0.0535 / 0.812 ± 0.0050\n",
      "\n",
      "VotingClassifier\n",
      "Mean test/train accuracy: 0.833 ± 0.0558 / 0.839 ± 0.0029\n",
      "Mean test/train precision_macro: 0.834 ± 0.0578 / 0.838 ± 0.0029\n",
      "Mean test/train recall_macro: 0.813 ± 0.0655 / 0.819 ± 0.0035\n",
      "Mean test/train f1_macro: 0.817 ± 0.0626 / 0.826 ± 0.0033\n"
     ]
    }
   ],
   "source": [
    "# And here's what happens if we use the \"engineered\" features for the RF model.\n",
    "# Note that the other models are essentially unchanged by this result (slightly worse).\n",
    "svm=make_pipeline(StandardScaler(), SVC(gamma=0.1,probability=True))\n",
    "rf=RandomForestClassifier(random_state=1212, n_jobs=-1, max_depth=5,max_features=None,bootstrap=False)\n",
    "mnb=MultinomialNB()\n",
    "\n",
    "vc = VotingClassifier(estimators=[('rf', rf),('svm', svm),('mnb',mnb)], voting='soft',weights=[0.5,0.3,0.2])\n",
    "\n",
    "print('Naive Bayes')\n",
    "print_model_metrics(mnb,data_fill,features_rf,label,20)\n",
    "print('\\nRandom Forest')\n",
    "print_model_metrics(rf,data_fill,features_rf,label,20)\n",
    "print('\\nSVM')\n",
    "print_model_metrics(svm,data_fill,features_rf,label,20)\n",
    "print('\\nVotingClassifier')\n",
    "print_model_metrics(vc,data_fill,features_rf,label,20)"
   ]
  },
  {
   "cell_type": "markdown",
   "metadata": {},
   "source": [
    "The VotingClassifier is essentially the same as the Random Forest model. So it seems that there is a strong overlap in the bad predictions of the models, i.e. there are certain passengers that none of the models are getting right. "
   ]
  },
  {
   "cell_type": "markdown",
   "metadata": {},
   "source": [
    "## OVERALL MODEL CONCLUSIONS\n",
    "\n",
    "From all the results above, the RandomForest model with the engineered features seems to be the best overall model. Let's take a look at some other metrics for that model: Precision-Recall curve, ROC curve, and confusion matrix."
   ]
  },
  {
   "cell_type": "markdown",
   "metadata": {},
   "source": [
    "### PRECISION-RECALL, ROC, CONFUSION MATRIX"
   ]
  },
  {
   "cell_type": "code",
   "execution_count": 56,
   "metadata": {},
   "outputs": [],
   "source": [
    "X_train, X_test, y_train, y_test = train_test_split(data_fill[features_rf], data_fill[label],stratify=data_fill[label])\n",
    "\n",
    "rf=RandomForestClassifier(random_state=1212, n_jobs=-1, max_depth=5,max_features=None,bootstrap=False)\n",
    "rf.fit(X_train,y_train)\n",
    "y_score=rf.predict_proba(X_test)\n",
    "y_pred=rf.predict(X_test)"
   ]
  },
  {
   "cell_type": "markdown",
   "metadata": {},
   "source": [
    "Note that using a stratified test/train split preserves the 0/1 distribution of the label. That's what we've been doing implicitly with the cross_validate models above."
   ]
  },
  {
   "cell_type": "code",
   "execution_count": 57,
   "metadata": {
    "scrolled": true
   },
   "outputs": [
    {
     "data": {
      "text/plain": [
       "0    0.61435\n",
       "1    0.38565\n",
       "Name: Survived, dtype: float64"
      ]
     },
     "execution_count": 57,
     "metadata": {},
     "output_type": "execute_result"
    }
   ],
   "source": [
    "y_test.value_counts(normalize=True)"
   ]
  },
  {
   "cell_type": "code",
   "execution_count": 58,
   "metadata": {},
   "outputs": [
    {
     "data": {
      "text/plain": [
       "0    0.616766\n",
       "1    0.383234\n",
       "Name: Survived, dtype: float64"
      ]
     },
     "execution_count": 58,
     "metadata": {},
     "output_type": "execute_result"
    }
   ],
   "source": [
    "y_train.value_counts(normalize=True)"
   ]
  },
  {
   "cell_type": "code",
   "execution_count": 59,
   "metadata": {
    "scrolled": true
   },
   "outputs": [
    {
     "data": {
      "image/png": "[encoded data removed]",
      "text/plain": [
       "<matplotlib.figure.Figure at 0x1a1e923898>"
      ]
     },
     "metadata": {},
     "output_type": "display_data"
    }
   ],
   "source": [
    "precision, recall, _ = precision_recall_curve(y_test, y_score[:,1])\n",
    "plt.step(recall, precision, color='b', alpha=0.2,\n",
    "         where='post')\n",
    "plt.fill_between(recall, precision, step='post', alpha=0.2,\n",
    "                 color='b')\n",
    "\n",
    "plt.xlabel('Recall')\n",
    "plt.ylabel('Precision')\n",
    "plt.ylim([0.0, 1.05])\n",
    "plt.xlim([0.0, 1.0])\n",
    "plt.title('VotingClassifier Precision-Recall curve')\n",
    "plt.show()"
   ]
  },
  {
   "cell_type": "code",
   "execution_count": 60,
   "metadata": {
    "scrolled": true
   },
   "outputs": [
    {
     "data": {
      "image/png": "[encoded data removed]",
      "text/plain": [
       "<matplotlib.figure.Figure at 0x1a1e923320>"
      ]
     },
     "metadata": {},
     "output_type": "display_data"
    }
   ],
   "source": [
    "\n",
    "fpr,tpr, _ = roc_curve(y_test, y_score[:,1])\n",
    "plt.step(fpr, tpr, color='b', alpha=0.2,\n",
    "         where='post')\n",
    "plt.fill_between(fpr, tpr, step='post', alpha=0.2,\n",
    "                 color='b')\n",
    "\n",
    "plt.xlabel('False Positive Rate')\n",
    "plt.ylabel('True Positive Rate')\n",
    "plt.ylim([0.0, 1.05])\n",
    "plt.xlim([0.0, 1.0])\n",
    "plt.title('VotingClassifier ROC curve')\n",
    "plt.show()"
   ]
  },
  {
   "cell_type": "code",
   "execution_count": 61,
   "metadata": {
    "scrolled": false
   },
   "outputs": [
    {
     "data": {
      "image/png": "[encoded data removed]",
      "text/plain": [
       "<matplotlib.figure.Figure at 0x1a1e9e2400>"
      ]
     },
     "metadata": {},
     "output_type": "display_data"
    }
   ],
   "source": [
    "sns.heatmap(confusion_matrix(y_test,y_pred),annot=True);"
   ]
  },
  {
   "cell_type": "markdown",
   "metadata": {},
   "source": [
    "## OVERALL CONCLUSIONS\n",
    "\n",
    "All 3 models -- Naive Bayes, Random Forest, and SVM -- give ~80% accuracy/precision/recall, which is very good. Neither the Naive Bayes model nor the Random Forest model were able to impute missing Age values very effectively; using the median age for these points was just as good. Also, constructing a VotingClassifier from all 3 models did not improve the results significantly. "
   ]
  }
 ],
 "metadata": {
  "kernelspec": {
   "display_name": "Python 3",
   "language": "python",
   "name": "python3"
  },
  "language_info": {
   "codemirror_mode": {
    "name": "ipython",
    "version": 3
   },
   "file_extension": ".py",
   "mimetype": "text/x-python",
   "name": "python",
   "nbconvert_exporter": "python",
   "pygments_lexer": "ipython3",
   "version": "3.6.4"
  }
 },
 "nbformat": 4,
 "nbformat_minor": 2
}
