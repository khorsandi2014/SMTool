{
 "cells": [
  {
   "cell_type": "code",
   "execution_count": 2,
   "metadata": {},
   "outputs": [
    {
     "name": "stdout",
     "output_type": "stream",
     "text": [
      "2018-07-25 23:48:19.163644\n"
     ]
    }
   ],
   "source": [
    "from datetime import datetime as dt\n",
    "print(dt.now())"
   ]
  },
  {
   "cell_type": "markdown",
   "metadata": {},
   "source": [
    "### 0 - Import Packages, Modules. Define Functions"
   ]
  },
  {
   "cell_type": "code",
   "execution_count": 3,
   "metadata": {},
   "outputs": [],
   "source": [
    "#Standard Libraries\n",
    "import numpy as np\n",
    "import pandas as pd\n",
    "import matplotlib.pyplot as plt\n",
    "%matplotlib inline\n",
    "plt.style.use('fivethirtyeight')\n",
    "\n",
    "#For ML Models\n",
    "from sklearn.model_selection import train_test_split\n",
    "from sklearn.model_selection import GridSearchCV\n",
    "from sklearn.feature_extraction.text import CountVectorizer\n",
    "from sklearn import model_selection\n",
    "from sklearn import metrics\n",
    "from sklearn.metrics import confusion_matrix\n",
    "from sklearn.metrics import precision_recall_fscore_support\n",
    "from sklearn.metrics import roc_auc_score\n",
    "\n",
    "#For NLP\n",
    "import string\n",
    "import nltk\n",
    "from nltk.corpus import stopwords\n",
    "from nltk.stem.snowball import SnowballStemmer\n",
    "from textblob import TextBlob, Word\n",
    "\n",
    "#For Exploratory Data Analysis\n",
    "%run '../../../Functions/Exploratory Data Analysis Function.ipynb'"
   ]
  },
  {
   "cell_type": "code",
   "execution_count": 4,
   "metadata": {},
   "outputs": [],
   "source": [
    "#Define function to cross validate model using a particular vectorizer\n",
    "def cross_validation(X, y, classifier_type, vect_type, print_metrics = True):\n",
    "    kf = model_selection.KFold(n_splits = 10, shuffle = True)\n",
    "    scores = []\n",
    "    confusion_matrix_array = np.array([[0,0],[0,0]])\n",
    "    classification_report_list = []\n",
    "    metrics_dict = {}\n",
    "    \n",
    "    for train_index, test_index in kf.split (X, y):\n",
    "        model = classifier_type\n",
    "\n",
    "        X_train = X.iloc[train_index]\n",
    "        X_test = X.iloc[test_index]\n",
    "        X_train_dtm = vect_type.fit_transform(X_train)\n",
    "        X_test_dtm = vect_type.transform(X_test)\n",
    "        \n",
    "        model = model.fit(X_train_dtm, y.iloc[train_index])\n",
    "        y_pred = model.predict(X_test_dtm)\n",
    "        \n",
    "        #Compute testing accuracy for each fold and append to scores list\n",
    "        testing_accuracy = metrics.accuracy_score(y.iloc[test_index], y_pred)\n",
    "        scores.append(testing_accuracy)\n",
    "        \n",
    "        #Produce and add to confusion matrix for each fold\n",
    "        confusion_matrix_array += confusion_matrix(y.iloc[test_index], y_pred)\n",
    "        \n",
    "        #Produce classification report and append to classification report list\n",
    "        classification_report_list.append(precision_recall_fscore_support(y.iloc[test_index], y_pred)) \n",
    "    \n",
    "    metrics_dict['average_accuracy'] = np.mean(scores)\n",
    "    metrics_dict['confusion_matrix_sum'] = confusion_matrix_array\n",
    "    metrics_dict['average_classification_report'] = pd.DataFrame(np.array(np.mean(classification_report_list, axis = 0))[0:3], index = ['precision', 'recall', 'fl-score']).T\n",
    "    \n",
    "    if print_metrics == True:\n",
    "        print(str(model) + ' Metric Report')\n",
    "        print('\\n -- Accuracy -- ')\n",
    "        print(metrics_dict['average_accuracy'])\n",
    "        print('\\n -- Confusion Matrix -- ')\n",
    "        print(metrics_dict['confusion_matrix_sum'])\n",
    "        print('\\n -- Classification Report -- ')\n",
    "        print(metrics_dict['average_classification_report'])\n",
    "        print('\\nNote: we do not print the average \"support\" values as it is meaningless. We need to refer to the confusion matrix sum above')\n",
    "    return(metrics_dict)"
   ]
  },
  {
   "cell_type": "markdown",
   "metadata": {},
   "source": [
    "### 1 - Load Data and Exploratory Analysis"
   ]
  },
  {
   "cell_type": "code",
   "execution_count": 5,
   "metadata": {},
   "outputs": [],
   "source": [
    "raw_data = pd.read_csv(\"SMSSpamCollection.tsv\",sep='\\t',names=['label','text'])\n",
    "pd.set_option('display.max_colwidth',100)"
   ]
  },
  {
   "cell_type": "code",
   "execution_count": 6,
   "metadata": {},
   "outputs": [
    {
     "name": "stdout",
     "output_type": "stream",
     "text": [
      "########## START OF DATA SUMMARY ##########\n",
      "\u001b[1m\u001b[4m(i) SHAPE\u001b[0m\n",
      "Rows and Columns: (5572, 2)\n",
      "\n",
      "\u001b[1m\u001b[4m(ii) GLIMPSE OF HEAD\u001b[0m\n",
      "  label  \\\n",
      "0   ham   \n",
      "1   ham   \n",
      "2  spam   \n",
      "3   ham   \n",
      "4   ham   \n",
      "\n",
      "                                                                                                  text  \n",
      "0  Go until jurong point, crazy.. Available only in bugis n great world la e buffet... Cine there g...  \n",
      "1                                                                        Ok lar... Joking wif u oni...  \n",
      "2  Free entry in 2 a wkly comp to win FA Cup final tkts 21st May 2005. Text FA to 87121 to receive ...  \n",
      "3                                                    U dun say so early hor... U c already then say...  \n",
      "4                                        Nah I don't think he goes to usf, he lives around here though  \n",
      "\n",
      "\u001b[1m\u001b[4m(iii) DATA TYPES\u001b[0m\n",
      "label    object\n",
      "text     object\n",
      "dtype: object\n",
      "\n",
      "\u001b[1m\u001b[4m(iv - a) SUMMARY STATISTICS OF NUMERIC VALUES\u001b[0m\n",
      "No numeric columns\n",
      "\n",
      "\u001b[1m\u001b[4m(iv - b) SUMMARY STATISTICS OF CAT/STRING VALUES\u001b[0m\n",
      "       label                    text\n",
      "count   5572                    5572\n",
      "unique     2                    5169\n",
      "top      ham  Sorry, I'll call later\n",
      "freq    4825                      30\n",
      "\n",
      "\u001b[1m\u001b[4m(v) VAlUE COUNTS OF CAT/STRING VALUES\u001b[0m\n",
      "\u001b[1mShowing value counts for column: \u001b[0mlabel\n",
      "ham     4825\n",
      "spam     747\n",
      "Name: label, dtype: int64\n",
      "\n",
      "\n",
      "\u001b[1mShowing value counts for column: \u001b[0mtext\n",
      "Sorry, I'll call later                                                                                                                                                                                                                                                                                                                                                                                                                                          30\n",
      "I cant pick the phone right now. Pls send a message                                                                                                                                                                                                                                                                                                                                                                                                             12\n",
      "Ok...                                                                                                                                                                                                                                                                                                                                                                                                                                                           10\n",
      "Your opinion about me? 1. Over 2. Jada 3. Kusruthi 4. Lovable 5. Silent 6. Spl character 7. Not matured 8. Stylish 9. Simple Pls reply..                                                                                                                                                                                                                                                                                                                         4\n",
      "Ok.                                                                                                                                                                                                                                                                                                                                                                                                                                                              4\n",
      "Ok                                                                                                                                                                                                                                                                                                                                                                                                                                                               4\n",
      "Wen ur lovable bcums angry wid u, dnt take it seriously.. Coz being angry is d most childish n true way of showing deep affection, care n luv!.. kettoda manda... Have nice day da.                                                                                                                                                                                                                                                                              4\n",
      "7 wonders in My WORLD 7th You 6th Ur style 5th Ur smile 4th Ur Personality 3rd Ur Nature 2nd Ur SMS and 1st \"Ur Lovely Friendship\"... good morning dear                                                                                                                                                                                                                                                                                                          4\n",
      "Say this slowly.? GOD,I LOVE YOU &amp; I NEED YOU,CLEAN MY HEART WITH YOUR BLOOD.Send this to Ten special people &amp; u c miracle tomorrow, do it,pls,pls do it...                                                                                                                                                                                                                                                                                              4\n",
      "Please call our customer service representative on FREEPHONE 0808 145 4742 between 9am-11pm as you have WON a guaranteed £1000 cash or £5000 prize!                                                                                                                                                                                                                                                                                                              4\n",
      "Okie                                                                                                                                                                                                                                                                                                                                                                                                                                                             4\n",
      "As per your request 'Melle Melle (Oru Minnaminunginte Nurungu Vettam)' has been set as your callertune for all Callers. Press *9 to copy your friends Callertune                                                                                                                                                                                                                                                                                                 3\n",
      "Are you this much buzy                                                                                                                                                                                                                                                                                                                                                                                                                                           3\n",
      "Honeybee Said: *I'm d Sweetest in d World* God Laughed &amp; Said: *Wait,U Havnt Met d Person Reading This Msg* MORAL: Even GOD Can Crack Jokes! GM+GN+GE+GN:)                                                                                                                                                                                                                                                                                                   3\n",
      "Wishing you and your family Merry \"X\" mas and HAPPY NEW Year in advance..                                                                                                                                                                                                                                                                                                                                                                                        3\n",
      "HMV BONUS SPECIAL 500 pounds of genuine HMV vouchers to be won. Just answer 4 easy questions. Play Now! Send HMV to 86688 More info:www.100percent-real.com                                                                                                                                                                                                                                                                                                      3\n",
      "Solve d Case : A Man Was Found Murdered On  &lt;DECIMAL&gt; . &lt;#&gt;  AfterNoon. 1,His wife called Police. 2,Police questioned everyone. 3,Wife: Sir,I was sleeping, when the murder took place. 4.Cook: I was cooking. 5.Gardener: I was picking vegetables. 6.House-Maid: I went 2 d post office. 7.Children: We went 2 play. 8.Neighbour: We went 2 a marriage. Police arrested d murderer Immediately. Who's It? Reply With Reason, If U r Brilliant.     3\n",
      "1) Go to write msg 2) Put on Dictionary mode 3)Cover the screen with hand, 4)Press  &lt;#&gt; . 5)Gently remove Ur hand.. Its interesting..:)                                                                                                                                                                                                                                                                                                                    3\n",
      "I'm at work. Please call                                                                                                                                                                                                                                                                                                                                                                                                                                         3\n",
      "Camera - You are awarded a SiPix Digital Camera! call 09061221066 fromm landline. Delivery within 28 days.                                                                                                                                                                                                                                                                                                                                                       3\n",
      "Today is ACCEPT DAY..U Accept me as? Brother Sister Lover Dear1 Best1 Clos1 Lvblefrnd Jstfrnd Cutefrnd Lifpartnr Belovd Swtheart Bstfrnd No rply means enemy                                                                                                                                                                                                                                                                                                     3\n",
      "Prabha..i'm soryda..realy..frm heart i'm sory                                                                                                                                                                                                                                                                                                                                                                                                                    3\n",
      "No calls..messages..missed calls                                                                                                                                                                                                                                                                                                                                                                                                                                 3\n",
      "I wnt to buy a BMW car urgently..its vry urgent.but hv a shortage of  &lt;#&gt; Lacs.there is no source to arng dis amt. &lt;#&gt; lacs..thats my prob                                                                                                                                                                                                                                                                                                           3\n",
      "Oh ho. Is this the first time u use these type of words                                                                                                                                                                                                                                                                                                                                                                                                          3\n",
      "Tessy..pls do me a favor. Pls convey my birthday wishes to Nimya..pls dnt forget it. Today is her birthday Shijas                                                                                                                                                                                                                                                                                                                                                3\n",
      "Gud mrng dear hav a nice day                                                                                                                                                                                                                                                                                                                                                                                                                                     3\n",
      "Love you aathi..love u lot..                                                                                                                                                                                                                                                                                                                                                                                                                                     3\n",
      "No no. I will check all rooms befor activities                                                                                                                                                                                                                                                                                                                                                                                                                   3\n",
      "House-Maid is the murderer, coz the man was murdered on  &lt;#&gt; th January.. As public holiday all govt.instituitions are closed,including post office..understand?                                                                                                                                                                                                                                                                                           3\n",
      "                                                                                                                                                                                                                                                                                                                                                                                                                                                                ..\n",
      "Can you open the door?                                                                                                                                                                                                                                                                                                                                                                                                                                           1\n",
      "Try neva mate!!                                                                                                                                                                                                                                                                                                                                                                                                                                                  1\n",
      "Match started.india  &lt;#&gt;  for 2                                                                                                                                                                                                                                                                                                                                                                                                                            1\n",
      "Yeah so basically any time next week you can get away from your mom &amp; get up before 3                                                                                                                                                                                                                                                                                                                                                                        1\n",
      "I'm on my way home. Went to change batt 4 my watch then go shop a bit lor.                                                                                                                                                                                                                                                                                                                                                                                       1\n",
      "No messages on her phone. I'm holding it now                                                                                                                                                                                                                                                                                                                                                                                                                     1\n",
      "K..k..any special today?                                                                                                                                                                                                                                                                                                                                                                                                                                         1\n",
      "Hi its Kate it was lovely to see you tonight and ill phone you tomorrow. I got to sing and a guy gave me his card! xxx                                                                                                                                                                                                                                                                                                                                           1\n",
      "U r too much close to my heart. If u go away i will be shattered. Plz stay with me.                                                                                                                                                                                                                                                                                                                                                                              1\n",
      "Eh ur laptop got no stock lei... He say mon muz come again to take a look c got a not...                                                                                                                                                                                                                                                                                                                                                                         1\n",
      "I don't know, same thing that's wrong everyso often, he panicks starts goin on bout not bein good enough …                                                                                                                                                                                                                                                                                                                                                       1\n",
      "Congrats. That's great. I wanted to tell you not to tell me your score cos it might make me relax. But its motivating me so thanks for sharing                                                                                                                                                                                                                                                                                                                   1\n",
      "Hi..i got the money da:)                                                                                                                                                                                                                                                                                                                                                                                                                                         1\n",
      "Hi there. We have now moved in2 our pub . Would be great 2 c u if u cud come up.                                                                                                                                                                                                                                                                                                                                                                                 1\n",
      "INTERFLORA - It's not too late to order Interflora flowers for christmas call 0800 505060 to place your order before Midnight tomorrow.                                                                                                                                                                                                                                                                                                                         1\n",
      "I hope your alright babe? I worry that you might have felt a bit desparate when you learned the job was a fake ? I am here waiting when you come back, my love                                                                                                                                                                                                                                                                                                   1\n",
      "Are you willing to go for apps class.                                                                                                                                                                                                                                                                                                                                                                                                                            1\n",
      "Eatin my lunch...                                                                                                                                                                                                                                                                                                                                                                                                                                                1\n",
      "I am going to sleep. I am tired of travel.                                                                                                                                                                                                                                                                                                                                                                                                                       1\n",
      "REMINDER FROM O2: To get 2.50 pounds free call credit and details of great offers pls reply 2 this text with your valid name, house no and postcode                                                                                                                                                                                                                                                                                                              1\n",
      "Ooooooh I forgot to tell u I can get on yoville on my phone                                                                                                                                                                                                                                                                                                                                                                                                      1\n",
      "Babe, I'm back ... Come back to me ...                                                                                                                                                                                                                                                                                                                                                                                                                           1\n",
      "Only 2% students solved this CAT question in 'xam... 5+3+2= &lt;#&gt;  9+2+4= &lt;#&gt;  8+6+3= &lt;#&gt;  then 7+2+5=????? Tell me the answer if u r brilliant...1thing.i got d answr.                                                                                                                                                                                                                                                                          1\n",
      "Then mum's repent how?                                                                                                                                                                                                                                                                                                                                                                                                                                           1\n",
      "Sat right? Okay thanks...                                                                                                                                                                                                                                                                                                                                                                                                                                        1\n",
      "Someone has contacted our dating service and entered your phone because they fancy you! To find out who it is call from a landline 09111032124 . PoBox12n146tf150p                                                                                                                                                                                                                                                                                               1\n",
      "K then 2marrow are you coming to class.                                                                                                                                                                                                                                                                                                                                                                                                                          1\n",
      "K... Must book a not huh? so going for yoga basic on sunday?                                                                                                                                                                                                                                                                                                                                                                                                     1\n",
      "No..but heard abt tat..                                                                                                                                                                                                                                                                                                                                                                                                                                          1\n",
      "So that means you still think of teju                                                                                                                                                                                                                                                                                                                                                                                                                            1\n",
      "Name: text, Length: 5169, dtype: int64\n",
      "\n",
      "\n",
      "\n",
      "\u001b[1m\u001b[4m(vi) PRESENCE OF NUll/NAN VALUES\u001b[0m\n",
      "label    False\n",
      "text     False\n",
      "dtype: bool\n",
      "\n",
      "\u001b[1m\u001b[4m(vii) % of NULL/NAN VALUES IN COLUMNS THAT HAVE NULL/NAN VALUES\u001b[0m\n",
      "\n",
      "\u001b[1m\u001b[4m(viii) PRESENCE OF DUPLICATE ROWS\u001b[0m\n",
      "True\n"
     ]
    },
    {
     "data": {
      "text/plain": [
       "'######### END OF DATA SUMMARY ########## '"
      ]
     },
     "execution_count": 6,
     "metadata": {},
     "output_type": "execute_result"
    }
   ],
   "source": [
    "data_summary(raw_data)"
   ]
  },
  {
   "cell_type": "markdown",
   "metadata": {},
   "source": [
    "#### Observations:\n",
    "#### 1) There two columns, one containing the text messages and one containing a label that indicates whether or not the text message is spam. We need to convert the label column to integers. \n",
    "#### 2) There seem to be a lot of slang words associated with certain countries in some of the text messages\n",
    "#### 3) There are no missing values in either column. \n",
    "#### 4) There are duplicate rows in the dataset. We need to remove these. \n",
    "#### 5) Since this is a text-based classification problem, suitable candidate machine learning models are naive bayes, decision tree and random forest. KNN, SVM and logistic regression models, while typically used for two-class classification problems are not suitable to be applied to text-based problems. "
   ]
  },
  {
   "cell_type": "markdown",
   "metadata": {},
   "source": [
    "### 2 - Data Cleaning"
   ]
  },
  {
   "cell_type": "code",
   "execution_count": 7,
   "metadata": {},
   "outputs": [
    {
     "name": "stdout",
     "output_type": "stream",
     "text": [
      "########## START OF DATA SUMMARY ##########\n",
      "\u001b[1m\u001b[4m(i) SHAPE\u001b[0m\n",
      "Rows and Columns: (5169, 2)\n",
      "\n",
      "\u001b[1m\u001b[4m(ii) GLIMPSE OF HEAD\u001b[0m\n",
      "  label  \\\n",
      "0     0   \n",
      "1     0   \n",
      "2     1   \n",
      "3     0   \n",
      "4     0   \n",
      "\n",
      "                                                                                                  text  \n",
      "0  Go until jurong point, crazy.. Available only in bugis n great world la e buffet... Cine there g...  \n",
      "1                                                                        Ok lar... Joking wif u oni...  \n",
      "2  Free entry in 2 a wkly comp to win FA Cup final tkts 21st May 2005. Text FA to 87121 to receive ...  \n",
      "3                                                    U dun say so early hor... U c already then say...  \n",
      "4                                        Nah I don't think he goes to usf, he lives around here though  \n",
      "\n",
      "\u001b[1m\u001b[4m(iii) DATA TYPES\u001b[0m\n",
      "label    object\n",
      "text     object\n",
      "dtype: object\n",
      "\n",
      "\u001b[1m\u001b[4m(iv - a) SUMMARY STATISTICS OF NUMERIC VALUES\u001b[0m\n",
      "No numeric columns\n",
      "\n",
      "\u001b[1m\u001b[4m(iv - b) SUMMARY STATISTICS OF CAT/STRING VALUES\u001b[0m\n",
      "        label  \\\n",
      "count    5169   \n",
      "unique      2   \n",
      "top         0   \n",
      "freq     4516   \n",
      "\n",
      "                                                                            text  \n",
      "count                                                                       5169  \n",
      "unique                                                                      5169  \n",
      "top     Yeah, I'll leave in a couple minutes &amp; let you know when I get to mu  \n",
      "freq                                                                           1  \n",
      "\n",
      "\u001b[1m\u001b[4m(v) VAlUE COUNTS OF CAT/STRING VALUES\u001b[0m\n",
      "\u001b[1mShowing value counts for column: \u001b[0mlabel\n",
      "0    4516\n",
      "1     653\n",
      "Name: label, dtype: int64\n",
      "\n",
      "\n",
      "\u001b[1mShowing value counts for column: \u001b[0mtext\n",
      "Yeah, I'll leave in a couple minutes &amp; let you know when I get to mu                                                                                                                                                                                                                                 1\n",
      "The search 4 happiness is 1 of d main sources of unhappiness! Accept life the way it comes! U will find happiness in every moment u live.                                                                                                                                                                1\n",
      "You might want to pull out more just in case and just plan on not spending it if you can, I don't have much confidence in derek and taylor's money management                                                                                                                                            1\n",
      "I am late,so call you tomorrow morning.take care sweet dreams....u and me...ummifying...bye.                                                                                                                                                                                                             1\n",
      "Aiyar sorry lor forgot 2 tell u...                                                                                                                                                                                                                                                                       1\n",
      "Ok..                                                                                                                                                                                                                                                                                                     1\n",
      "Oh... Kay... On sat right?                                                                                                                                                                                                                                                                               1\n",
      "Well imma definitely need to restock before thanksgiving, I'll let you know when I'm out                                                                                                                                                                                                                 1\n",
      "Shuhui say change 2 suntec steamboat? U noe where? Where r u now?                                                                                                                                                                                                                                        1\n",
      "Wif my family booking tour package.                                                                                                                                                                                                                                                                      1\n",
      "Great escape. I fancy the bridge but needs her lager. See you tomo                                                                                                                                                                                                                                       1\n",
      "I am taking half day leave bec i am not well                                                                                                                                                                                                                                                             1\n",
      "Ok... Sweet dreams...                                                                                                                                                                                                                                                                                    1\n",
      "If you are not coughing then its nothing                                                                                                                                                                                                                                                                 1\n",
      "Sorry man, accidentally left my phone on silent last night and didn't check it til I got up                                                                                                                                                                                                              1\n",
      "Yes. that will be fine. Love you. Be safe.                                                                                                                                                                                                                                                               1\n",
      "My mobile number.pls sms ur mail id.convey regards to achan,amma.Rakhesh.Qatar                                                                                                                                                                                                                           1\n",
      "New Theory: Argument wins d SITUATION, but loses the PERSON. So dont argue with ur friends just.. . . . kick them &amp; say, I'm always correct.!                                                                                                                                                        1\n",
      "Isn't frnd a necesity in life? imagine urself witout a frnd.. hw'd u feel at ur colleg? wat'll u do wth ur cell? wat abt functions? thnk abt events espe'll cared, missed &amp; irritated u? 4wrd it to all those dear-loving frnds wthout whom u cant live.. I jst did it.. Takecare..:) GOODMORNING    1\n",
      "Aiyah ok wat as long as got improve can already wat...                                                                                                                                                                                                                                                   1\n",
      "He says he'll give me a call when his friend's got the money but that he's definitely buying before the end of the week                                                                                                                                                                                  1\n",
      "Customer service annoncement. You have a New Years delivery waiting for you. Please call 07046744435 now to arrange delivery                                                                                                                                                                             1\n",
      "K..then come wenever u lik to come and also tel vikky to come by getting free time..:-)                                                                                                                                                                                                                  1\n",
      "I guess you could be as good an excuse as any, lol.                                                                                                                                                                                                                                                      1\n",
      "Good afternoon, my love. It was good to see your words on YM and get your tm. Very smart move, my slave ... *smiles* ... I drink my coffee and await you.                                                                                                                                                1\n",
      "I'll meet you in the lobby                                                                                                                                                                                                                                                                               1\n",
      "Yay! You better not have told that to 5 other girls either.                                                                                                                                                                                                                                              1\n",
      "I wake up long ago already... Dunno, what other thing?                                                                                                                                                                                                                                                   1\n",
      "i am seeking a lady in the street and a freak in the sheets. Is that you?                                                                                                                                                                                                                                1\n",
      "U free on sat rite? U wan 2 watch infernal affairs wif me n darren n mayb xy?                                                                                                                                                                                                                            1\n",
      "                                                                                                                                                                                                                                                                                                        ..\n",
      "Shall call now dear having food                                                                                                                                                                                                                                                                          1\n",
      "TBS/PERSOLVO. been chasing us since Sept for£38 definitely not paying now thanks to your information. We will ignore them. Kath. Manchester.                                                                                                                                                             1\n",
      "What time you coming down later?                                                                                                                                                                                                                                                                         1\n",
      "I cant keep talking to people if am not sure i can pay them if they agree to price. So pls tell me what you want to really buy and how much you are willing to pay                                                                                                                                       1\n",
      "And very importantly, all we discuss is between u and i only.                                                                                                                                                                                                                                            1\n",
      "So what about you. What do you remember                                                                                                                                                                                                                                                                  1\n",
      "Keep my payasam there if rinu brings                                                                                                                                                                                                                                                                     1\n",
      "True. Its easier with her here.                                                                                                                                                                                                                                                                          1\n",
      "I'll see, but prolly yeah                                                                                                                                                                                                                                                                                1\n",
      "Sorry, I'll call later  &lt;#&gt; mins                                                                                                                                                                                                                                                                   1\n",
      "Just sleeping..and surfing                                                                                                                                                                                                                                                                               1\n",
      "Ha... Both of us doing e same thing. But i got tv 2 watch. U can thk of where 2 go tonight or u already haf smth in mind...                                                                                                                                                                              1\n",
      "Hi:)cts employee how are you?                                                                                                                                                                                                                                                                            1\n",
      "Free Msg: get Gnarls Barkleys \"Crazy\" ringtone TOTALLY FREE just reply GO to this message right now!                                                                                                                                                                                                     1\n",
      "Em, its olowoyey@ usc.edu have a great time in argentina. Not sad about secretary, everything is a blessing                                                                                                                                                                                              1\n",
      "Dont know supports ass and srt i thnk. I think ps3 can play through usb too                                                                                                                                                                                                                              1\n",
      "Sure! I am driving but will reach my destination soon.                                                                                                                                                                                                                                                   1\n",
      "Yesterday its with me only . Now am going home.                                                                                                                                                                                                                                                          1\n",
      "3 pa but not selected.                                                                                                                                                                                                                                                                                   1\n",
      "I am sorry it hurt you.                                                                                                                                                                                                                                                                                  1\n",
      "That's fine, I'll bitch at you about it later then                                                                                                                                                                                                                                                       1\n",
      "I want  &lt;#&gt;  rs da:)do you have it?                                                                                                                                                                                                                                                                1\n",
      "i can call in  &lt;#&gt;  min if thats ok                                                                                                                                                                                                                                                                1\n",
      "Ok. So april. Cant wait                                                                                                                                                                                                                                                                                  1\n",
      "If you don't, your prize will go to another customer. T&C at www.t-c.biz 18+ 150p/min Polo Ltd Suite 373 London W1J 6HL Please call back if busy                                                                                                                                                         1\n",
      "Thats cool! Sometimes slow and gentle. Sonetimes rough and hard :)                                                                                                                                                                                                                                       1\n",
      "LOL ... No just was busy                                                                                                                                                                                                                                                                                 1\n",
      "I want to go to perumbavoor                                                                                                                                                                                                                                                                              1\n",
      "Our records indicate u maybe entitled to 5000 pounds in compensation for the Accident you had. To claim 4 free reply with CLAIM to this msg. 2 stop txt STOP                                                                                                                                             1\n",
      "So that means you still think of teju                                                                                                                                                                                                                                                                    1\n",
      "Name: text, Length: 5169, dtype: int64\n",
      "\n",
      "\n",
      "\n",
      "\u001b[1m\u001b[4m(vi) PRESENCE OF NUll/NAN VALUES\u001b[0m\n",
      "label    False\n",
      "text     False\n",
      "dtype: bool\n",
      "\n",
      "\u001b[1m\u001b[4m(vii) % of NULL/NAN VALUES IN COLUMNS THAT HAVE NULL/NAN VALUES\u001b[0m\n",
      "\n",
      "\u001b[1m\u001b[4m(viii) PRESENCE OF DUPLICATE ROWS\u001b[0m\n",
      "False\n"
     ]
    },
    {
     "data": {
      "text/plain": [
       "'######### END OF DATA SUMMARY ########## '"
      ]
     },
     "execution_count": 7,
     "metadata": {},
     "output_type": "execute_result"
    }
   ],
   "source": [
    "#---- Drop duplicates from dataframe  ----\n",
    "raw_data_clean = raw_data\n",
    "raw_data_clean.drop_duplicates(inplace = True)\n",
    "\n",
    "#---- Convert label column from string to integers. ham = 0, spam = 1  ----\n",
    "raw_data_clean.loc[raw_data_clean['label'] == 'ham', 'label'] = 0\n",
    "raw_data_clean.loc[raw_data_clean['label'] == 'spam', 'label'] = 1\n",
    "\n",
    "#----- Look at summary of clean data to verify all changes were made correctly -----\n",
    "data_summary(raw_data_clean)"
   ]
  },
  {
   "cell_type": "markdown",
   "metadata": {},
   "source": [
    "### 3 - Define Predictor Variables and Outcome"
   ]
  },
  {
   "cell_type": "code",
   "execution_count": 8,
   "metadata": {},
   "outputs": [],
   "source": [
    "X = raw_data_clean.text\n",
    "y = raw_data_clean.label\n",
    "y[y == 'ham'] = 0\n",
    "y[y == 'spam'] = 1\n",
    "y = pd.to_numeric(y)"
   ]
  },
  {
   "cell_type": "markdown",
   "metadata": {},
   "source": [
    "### 3 - Feature Engineering on Text Column"
   ]
  },
  {
   "cell_type": "code",
   "execution_count": 9,
   "metadata": {},
   "outputs": [],
   "source": [
    "vect_list = []"
   ]
  },
  {
   "cell_type": "markdown",
   "metadata": {},
   "source": [
    "#### (i) Standard CountVectorizer"
   ]
  },
  {
   "cell_type": "code",
   "execution_count": 10,
   "metadata": {},
   "outputs": [
    {
     "name": "stdout",
     "output_type": "stream",
     "text": [
      "['0796XXXXXX', '07XXXXXXXXX', '0A', '1000CALL', '10K', '14TCR', '150P', '150P16', '150PPM', '1DA', '1ER', '1IM', '1YF', '20M12AQ', '23F', '23G', '24M', '2B', '2C', '2DOCD', '2EZ', '2GETHA', '2GEVA', '2I', '2MORO', '2MOROW', '2MORRO', '2MRW', '2MWEN', '2NITE', '2PX', '2U', '2WATERSHD', '2WT', '2WU', '3AJ', '3D', '3G', '3GBP', '3LP', '3MOBILE', '3POUND', '3SS', '3UZ', '3XX', '40GB', '4403LDNW1A7RW18', '4BREKKIE', '4EVA', '4GET', '4JX', '4MY', '4QF2', '4T', '4U', '4WARD', '5K', '5WB', '5WE', '5WQ', '60P', '6HL', '6WU', '6ZF', '7MP', '7WS', '7ZS', '8WP', '92H', '97N7QP', '9AE', '9YT', 'A21', 'ABOUT', 'ABOUTAS', 'ABTA', 'ACCEPT', 'ACL03530150PM', 'ACTION', 'ACTUALLY', 'AD', 'ADAM', 'ADDAMSFA', 'ADP', 'ADRINK', 'AFEW', 'AFTER', 'AFTERNOON', 'AG', 'AGAIN', 'AGAINST', 'AGE', 'AGES', 'AGO', 'AH', 'AIG', 'AINT', 'AL', 'ALERT', 'ALETTER', 'ALEX', 'ALL', 'ALRITE', 'ALSO', 'ALWAYS', 'AM', 'AMY', 'AN', 'ANAL', 'AND', 'ANNIE', 'ANS', 'ANSWER', 'ANTELOPE', 'ANYTHING', 'ANYWAY', 'AOM', 'APPY', 'APRIL', 'ARE', 'AREA', 'ARIES', 'AROUND', 'ARR', 'AS', 'ASAP', 'ASJESUS', 'ASKED', 'ASLEEP', 'ASTHERE', 'ASUSUAL', 'AT', 'ATM', 'AUCTION', 'AUGUST', 'AV', 'AVA', 'AVE', 'AVENT', 'AWAITING', 'AWARD', 'AXEL', 'AXIS', 'B4', 'B4U', 'BABE', 'BABES', 'BABY', 'BACK', 'BACKWARDS', 'BAHAMAS', 'BAILIFF', 'BAK', 'BANG', 'BANK', 'BANNEDUK', 'BARMED', 'BATH', 'BBC', 'BBD', 'BBDELUXE', 'BCK', 'BCM1896WC1N3XX', 'BCM4284', 'BCMSFWC1N3XX', 'BE', 'BEAUTIFUL', 'BED', 'BEDROOM', 'BEEN', 'BEER', 'BEFORE', 'BEGIN', 'BEHIND', 'BELIEVE', 'BEST', 'BETTER', 'BETTERSN', 'BIDS', 'BIG', 'BILL', 'BILLING', 'BIRD', 'BIRTHDAY', 'BIT', 'BK', 'BLOKE', 'BLOKES', 'BLOOD', 'BMW', 'BOATIN', 'BONUS', 'BOO', 'BOOKS', 'BORED', 'BORING', 'BORN', 'BOTH', 'BOUT', 'BOX', 'BOX139', 'BOX385', 'BOX420', 'BOX42WR29C', 'BOX95QU', 'BOX97N7QP', 'BOYF', 'BOYFRIEND', 'BRAND', 'BREAK', 'BREAKIN', 'BREATHE1', 'BRISTOL', 'BROKE', 'BROTHER', 'BSLVYL', 'BT', 'BTHERE', 'BTW', 'BUDDY', 'BUS', 'BUT', 'BUTTHERES', 'BUZ', 'BY', 'BYATCH', 'C52', 'CAKE', 'CAL', 'CALL', 'CALLED', 'CALLIN', 'CALM', 'CAME', 'CAMERA', 'CAN', 'CANCEL', 'CANT', 'CARD', 'CARE', 'CAREFUL', 'CARLIE', 'CASH', 'CAT', 'CATCH', 'CAUSE', 'CC', 'CD', 'CDGT', 'CER', 'CERI', 'CHA', 'CHANCE', 'CHARGE', 'CHARITY', 'CHAT', 'CHATLINES', 'CHECKIN', 'CHEER', 'CHEERED', 'CHEERS', 'CHILLIN', 'CHIT', 'CHOSEN', 'CL', 'CLAIM', 'CLAIRE', 'CLEAN', 'CLUB', 'CLUBSAISAI', 'CM', 'CM2', 'CNN', 'COLLECT', 'COLLEGE', 'COM', 'COME', 'COMIN', 'COMMON', 'COMPETITION', 'COMPLETELY', 'COMUK', 'CONCERNED', 'CONTENTION', 'CONTRACT', 'CONVINCED', 'COOL', 'COS', 'COUNTINLOTS', 'CR01327BT', 'CR9', 'CRAZYIN', 'CREDIT', 'CRISIS', 'CRO1327', 'CSH11', 'CU', 'CUD', 'CULDNT', 'CUM', 'CUP', 'CUSOON', 'CUST', 'CUTE', 'CW25WX', 'D3WV', 'DA', 'DABOOKS', 'DADS', 'DAMMIT', 'DAN', 'DARLIN', 'DAS', 'DATE', 'DAY', 'DAYS', 'DB', 'DD', 'DE', 'DEAD', 'DECIDED', 'DECIMAL', 'DEF', 'DEFO', 'DEL', 'DENA', 'DETAILS', 'DEVIOUSBITCH', 'DID', 'DIDN', 'DIDNT', 'DIGITAL', 'DIRTY', 'DIS', 'DISCOUNT', 'DLF', 'DO', 'DOCKS', 'DOES', 'DOESDISCOUNT', 'DOESNT', 'DOGBREATH', 'DOIN', 'DON', 'DONATE', 'DONE', 'DONT', 'DONTIGNORE', 'DONTMATTER', 'DONTPLEASE', 'DOT', 'DOUBLE', 'DOWN', 'DOWNON', 'DPS', 'DRACULA', 'DRAW', 'DREAMS', 'DREAMZ', 'DRINK', 'DRIVE', 'DRUNK', 'DUE', 'DUMB', 'DVD', 'E14', 'EACHOTHER', 'EASTENDERS', 'EAT', 'EC2A', 'EH74RR', 'ELLO', 'EMAIL', 'ENC', 'END', 'ENG', 'ENGLAND', 'ENJOY', 'ENJOYIN', 'ENTER', 'ENTRY', 'ENUFCREDEIT', 'ER', 'ESPECIALLY', 'EURO', 'EURO2004', 'EVE', 'EVEN', 'EVENING', 'EVER', 'EVERY', 'EVERY1', 'EVERYTHIN', 'EVONE', 'EXACT', 'EXAMS', 'EXETER', 'EXORCIST', 'EXP', 'EXPLAIN', 'EXPLOSIVE', 'EXTREME', 'EY', 'F4Q', 'FA', 'FANCY', 'FANTASIES', 'FANTASTIC', 'FANTASY', 'FAR', 'FAV', 'FEEL', 'FEELINGOOD', 'FEELLIKW', 'FFFFUUUUUUU', 'FIELDOF', 'FIFA', 'FIFTEEN', 'FIGHTS', 'FILTH', 'FINAL', 'FIND', 'FINE', 'FINEST', 'FINISH', 'FIRST', 'FIT', 'FIZZ', 'FLAG', 'FLOWER', 'FM', 'FML', 'FONE', 'FONIN', 'FOR', 'FOREVER', 'FOUNDURSELF', 'FR', 'FRAN', 'FREE', 'FREE2DAY', 'FREEFONE', 'FREEMSG', 'FREEPHONE', 'FREINDS', 'FRESHERS', 'FRIEND', 'FRIENDS', 'FRIENDSHIP', 'FRMCLOUD', 'FRND', 'FRNDS', 'FRNDSHIP', 'FROM', 'FROMWRK', 'FUCK', 'FUCKED', 'FUCKIN', 'FUCKING', 'FUCKINNICE', 'FUDGE', 'FUNNY', 'G2', 'GAIL', 'GAME', 'GANG', 'GAS', 'GBP', 'GBP1', 'GBP4', 'GBP5', 'GE', 'GENDER', 'GENT', 'GET', 'GETTIN', 'GHOST', 'GIFTS', 'GIMMI', 'GIRL', 'GIRLS', 'GIV', 'GIVE', 'GIVEN', 'GM', 'GMW', 'GN', 'GNT', 'GO', 'GOD', 'GOIN', 'GOING', 'GONE', 'GONNA', 'GONNAMISSU', 'GOOD', 'GOODEVENING', 'GOODFRIEND', 'GOODMORNING', 'GOODNIGHT', 'GOODNITE', 'GOODNOON', 'GOODTIME', 'GORGEOUS', 'GOSS', 'GOSSIP', 'GOT', 'GOTMARRIED', 'GOTTA', 'GOWER', 'GR8FUN', 'GRAN', 'GRAVEL', 'GREAT', 'GROW', 'GSOH', 'GUARANTEED', 'GUD', 'GURL', 'HAD', 'HALF', 'HAPPY', 'HARD', 'HARDCORE', 'HARDEST', 'HARRY', 'HAS', 'HATES', 'HAUGHAIGHGTUJHYGUJ', 'HAV', 'HAVBEEN', 'HAVE', 'HAVEBEEN', 'HAVENT', 'HAVENTCN', 'HAVIN', 'HAVING', 'HCL', 'HEART', 'HELL', 'HELLO', 'HELLOGORGEOUS', 'HELP', 'HER', 'HEY', 'HF8', 'HG', 'HI', 'HIDE', 'HIM', 'HIS', 'HIT', 'HIYA', 'HL', 'HMM', 'HMV', 'HMV1', 'HOLIDAY', 'HOME', 'HON', 'HONEY', 'HONI', 'HOPE', 'HOPEU', 'HORO', 'HOSPITAL', 'HOT', 'HOTMIX', 'HOUSE', 'HOW', 'HOWDY', 'HOWS', 'HOWU', 'HP20', 'HRS', 'HTTP', 'HU', 'HUN', 'HUNNY', 'HV9D', 'IAS', 'IBH', 'IBN', 'ID', 'IDIOT', 'IDPS', 'IF', 'IFINK', 'IG11', 'IJUST', 'IKEA', 'IKNO', 'IKNOW', 'IL', 'ILEAVE', 'ILL', 'ILLSPEAK', 'IM', 'IMAT', 'IMF', 'IMIN', 'IMPORTANT', 'IN', 'INC', 'INCLU', 'INCONVENIENCE', 'INDIA', 'INDIANS', 'INDYAROCKS', 'INFORM', 'INFORMATION', 'INK', 'INR', 'INSTEAD', 'INTELLIGENT', 'INTERFLORA', 'INTERVIW', 'INTO', 'INVITED', 'IP4', 'IQ', 'IS', 'ISH', 'ISNT', 'ISV', 'IT', 'ITS', 'ITXT', 'IVE', 'IWANA', 'J5Q', 'J89', 'JADE', 'JAN', 'JANE', 'JANX', 'JAZ', 'JD', 'JEN', 'JESS', 'JJC', 'JOBYET', 'JSCO', 'JUL', 'JULY', 'JUS', 'JUST', 'JUSTFOUND', 'JUSWOKE', 'K52', 'K61', 'K718', 'KATE', 'KAVALAN', 'KEEP', 'KING', 'KISS', 'KL341', 'KNACKERED', 'KNOW', 'KNOWS', 'KR', 'KUDI', 'L8ER', 'L8R', 'L8RS', 'L8TR', 'LA1', 'LA3', 'LA32WU', 'LADIES', 'LAPTOP', 'LAST', 'LATE', 'LATER', 'LAY', 'LCCLTD', 'LDN', 'LE', 'LEAVE', 'LEKDOG', 'LES', 'LET', 'LETS', 'LF56', 'LIFE', 'LIFT', 'LIKE', 'LIKELY', 'LIKEYOUR', 'LIKING', 'LILY', 'LISTEN', 'LISTENING', 'LITTLE', 'LIVE', 'LKPOBOX177HP51FL', 'LLC', 'LLSPEAK', 'LMAO', 'LOCAL', 'LOCAXX', 'LOG', 'LOL', 'LONG', 'LONGER', 'LOOK', 'LOOKIN', 'LORD', 'LOST', 'LOT', 'LOTR', 'LOTS', 'LOU', 'LOVE', 'LOVEJEN', 'LOVEME', 'LRG', 'LS1', 'LS15HB', 'LS278BB', 'LST', 'LUCKY', 'LUCY', 'LUSH', 'LUTON', 'LUV', 'M221BP', 'M227XY', 'M26', 'M263UZ', 'M39M51', 'M6', 'M60', 'M95', 'MAD1', 'MAD2', 'MADE', 'MAHAL', 'MAKE', 'MALL', 'MAN', 'MANEESHA', 'MARCH', 'MARRIED', 'MARSMS', 'MAT', 'MATCH', 'MATCHED', 'MATE', 'MAYBE', 'ME', 'MECAUSE', 'MEET', 'MEETIN', 'MEGA', 'MELNITE', 'MEMBERS', 'MEREMEMBERIN', 'MESSAGE', 'MESSED', 'MF', 'MFL', 'MIDNIGHT', 'MILLIONS', 'MIN', 'MINE', 'MINI', 'MINS', 'MINUTES', 'MISS', 'MISSED', 'MISSIN', 'MISSY', 'MISTAKE', 'MITE', 'MIX', 'MK17', 'MK45', 'MMM', 'MO', 'MOAN', 'MOB', 'MOBNO', 'MOMENT', 'MON', 'MONKEESPEOPLE', 'MONKEYAROUND', 'MONO', 'MONOC', 'MOON', 'MORAL', 'MORE', 'MORNING', 'MORROW', 'MOST', 'MOVIE', 'MP3', 'MQUIZ', 'MR', 'MRNG', 'MSG', 'MSGRCVD', 'MSGS', 'MTALK', 'MUCH', 'MUCHXXLOVE', 'MUM', 'MUMS', 'MUNSTERS', 'MUSIC', 'MUST', 'MY', 'MYCALLS', 'MYSELF', 'N9DX', 'NAKED', 'NAME', 'NAME1', 'NAME2', 'NBME', 'NDSHIP', 'NEED', 'NEEDS', 'NEFT', 'NEO69', 'NETHING', 'NETWORKS', 'NEVA', 'NEVER', 'NEW', 'NEWAY', 'NEWQUAY', 'NHS', 'NIC', 'NICE', 'NICHOLS', 'NIGHT', 'NITE', 'NITW', 'NO', 'NOK', 'NOKIA', 'NOKIA6600', 'NONE', 'NOT', 'NOTHING', 'NOW', 'NOW1', 'NOWHERE', 'NR31', 'NRI', 'NTT', 'NUMBER', 'NVQ', 'NY', 'NYTHO', 'O2', 'O2FWD', 'OF', 'OFF', 'OFFICE', 'OFSI', 'OFTEN', 'OH', 'OJA', 'OK', 'OKDEN', 'OLD', 'OLI', 'ON', 'ONCALL', 'ONE', 'ONLY', 'ONLYFOUND', 'ONTO', 'OPT', 'OR', 'ORANGE', 'ORDINATOR', 'OREOS', 'OTHERWISE', 'OUR', 'OURBACKS', 'OUT', 'OUTL8R', 'OUTSOMEWHERE', 'OVER', 'OVERDOSE', 'PA', 'PARENTS', 'PARIS', 'PARK', 'PARTNER', 'PARTY', 'PASS', 'PAUL', 'PAY', 'PAYED2DAY', 'PC', 'PEACH', 'PERIL', 'PERSOLVO', 'PERSON', 'PETE', 'PETEXXX', 'PETROL', 'PHONE', 'PHP', 'PIC', 'PICK', 'PICS', 'PICSFREE1', 'PIN', 'PISS', 'PIX', 'PLAY', 'PLEASE', 'PLEASSSSSSSEEEEEE', 'PLS', 'PLUS', 'PO', 'PO19', 'POBOX', 'POBOX114', 'POBOX84', 'POD', 'POINT', 'POKKIRI', 'POLY', 'POLY3', 'POLYC', 'POLYPHONIC', 'POLYS', 'POOR', 'PORN', 'PORTIONS', 'POST', 'POSTCARD', 'POWER', 'PPL', 'PREMIER', 'PRESCHOOLCO', 'PRICE', 'PRIVACY', 'PRIVATE', 'PRIZEAWAITING', 'PROBLEM', 'PROBPOP', 'PROBTHAT', 'PROPERLY', 'PS', 'PSP', 'PSXTRA', 'PT2', 'PUB', 'PUTTIN', 'PX3748', 'QJKGIGHJJGCBL', 'QUITE', 'QUITEAMUZING', 'R836', 'RALLY', 'RANDOM', 'RANG', 'RCT', 'RE', 'READ', 'REAL', 'REAL1', 'REALISE', 'REALITY', 'REALLY', 'REALLYNEED', 'REALY', 'REBEL', 'RECD', 'RECEIVE', 'RECPT', 'RED', 'REGRET', 'REMEMBER', 'REMINDER', 'REPLY', 'REPLYS150', 'REPORT', 'RETURN', 'REVEAL', 'REVISION', 'REWARD', 'RG21', 'RGENT', 'RIGHT', 'RING', 'RINGS', 'RINGTONE', 'RISE', 'RITE', 'ROOM', 'ROSES', 'RP176781', 'RSTM', 'RT', 'RTM', 'RTO', 'RUDI', 'RV', 'RWM', 'S3XY', 'S89', 'SAD', 'SAE', 'SAID', 'SAM', 'SAME', 'SARY', 'SAT', 'SATTHEN', 'SAUSAGE', 'SAW', 'SAY', 'SCARY', 'SCOOL', 'SCOTLAND', 'SD', 'SED', 'SEE', 'SEEING', 'SEEMED', 'SEEN', 'SELFINDEPENDENCE', 'SELFISH', 'SEND', 'SENDS', 'SENT', 'SERIOUSLY', 'SERVICES', 'SEX', 'SEXYCHAT', 'SF', 'SHALL', 'SHAME', 'SHE', 'SHEFFIELD', 'SHESIL', 'SHIT', 'SHITIN', 'SHITINNIT', 'SHOP', 'SHOULD', 'SHOW', 'SHOWR', 'SHUDVETOLD', 'SI', 'SIB', 'SIM', 'SIMPLE', 'SING', 'SIR', 'SITUATION', 'SIX', 'SK3', 'SK38XH', 'SKY', 'SLAP', 'SLEEP', 'SLEEPING', 'SLEEPINGWITH', 'SLEPT', 'SLO', 'SMILEY', 'SMS', 'SMSSERVICES', 'SN', 'SNAP', 'SNORING', 'SO', 'SOFA', 'SOIREE', 'SOMEONE', 'SOMETHIN', 'SOMETHING', 'SONY', 'SOO', 'SOON', 'SOONLOTS', 'SORRY', 'SORTED', 'SOUND', 'SOUNDING', 'SOZ', 'SOZI', 'SP', 'SPAM', 'SPECIAL', 'SPECIALE', 'SPEEDCHAT', 'SPIDER', 'SPINOUT', 'SPK', 'SPOOK', 'SPORT', 'SPTV', 'SPUN', 'ST', 'STAPATI', 'STAR', 'STARS', 'START', 'STATION', 'STIL', 'STILL', 'STOP', 'STOPBCM', 'STOPCS', 'STORE', 'STORES', 'STRIKE', 'STU', 'STUDENT', 'STUDENTFINANCIAL', 'STUDY', 'STUPID', 'SUBPOLY', 'SUE', 'SUM', 'SUMMER', 'SUMTHIN', 'SUNDAY', 'SUPER', 'SURE', 'SURPRISE', 'SUZY', 'SW7', 'SW73SS', 'SWAN', 'SWAP', 'SWAT', 'SWEET', 'SWITCH', 'SYMPTOMS', 'T91', 'TA', 'TAJ', 'TAKE', 'TALK', 'TALKBUT', 'TALKED', 'TALKIN', 'TALKING', 'TAMPA', 'TAROT', 'TASTS', 'TBS', 'TC', 'TCR', 'TEL', 'TELL', 'TELLMISS', 'TERMINATED', 'TEX', 'TEXD', 'TEXT', 'TEXTBUDDY', 'TEXTCOMP', 'TEXTPOD', 'TEXTS', 'TH', 'THAN', 'THANKS', 'THANX', 'THANX4', 'THASA', 'THAT', 'THATMUM', 'THE', 'THEACUSATIONS', 'THECD', 'THEMOB', 'THEN', 'THERE', 'THESE', 'THEW', 'THEY', 'THING', 'THINK', 'THIS', 'THNQ', 'THO', 'THOSE', 'TIME', 'TISSCO', 'TITLE', 'TO', 'TOBED', 'TOCALL', 'TODAY', 'TOME', 'TOMORROW', 'TOMORW', 'TONE', 'TONES', 'TONES2U', 'TONEXS', 'TONIGHT', 'TONITE', 'TOOL', 'TOP', 'TOPLAY', 'TOTAL', 'TOTALLY', 'TOWN', 'TROUBLE', 'TRUBLE', 'TRUE', 'TRY', 'TS', 'TULIP', 'TV', 'TWILIGHT', 'TX', 'TXT', 'TXTAUCTION', 'U2MORO', 'U4', 'UAWAKE', 'UIN', 'UK', 'UKP', 'UNBELIEVABLE', 'UNI', 'UNICEF', 'UNLIMITED', 'UP', 'UP4', 'UPDAT', 'UR', 'URAWINNER', 'URE', 'URFEELING', 'URGENT', 'URGOIN', 'URGRAN', 'URL', 'URN', 'URSELF', 'US', 'USA', 'USED', 'USER', 'VALENTINE', 'VALENTINES', 'VALUED', 'VAT', 'VE', 'VIA', 'VIDEO', 'VILLA', 'VIOLENCE', 'VIOLET', 'VIP', 'VIVEKANAND', 'VPOD', 'VU', 'W1', 'W111WX', 'W14RG', 'W1A', 'W1J', 'W1J6HL', 'W1JHL', 'W4', 'W45WQ', 'WA14', 'WAIT', 'WAITING', 'WALES', 'WANNA', 'WANNATELL', 'WANT', 'WAP', 'WAS', 'WAY', 'WAY2SMS', 'WC1N', 'WC1N3XX', 'WE', 'WEDLUNCH', 'WEEK', 'WELL', 'WELLDA', 'WEN', 'WENT', 'WENWECAN', 'WERE', 'WEREBORED', 'WERETHE', 'WHASSUP', 'WHAT', 'WHEN', 'WHERE', 'WHICH', 'WHILE', 'WHITE', 'WHO', 'WHORE', 'WHY', 'WID', 'WIFE', 'WILD', 'WILL', 'WIN', 'WINNER', 'WISH', 'WISHING', 'WITH', 'WITHOUT', 'WIV', 'WK', 'WKEND', 'WKENT', 'WOKE', 'WOMAN', 'WOMEN', 'WON', 'WONT', 'WORDS', 'WORK', 'WORLD', 'WORRIED', 'WORRY', 'WOT', 'WOTU', 'WOULD', 'WOULDN', 'WOW', 'WRC', 'WRK', 'WRKIN', 'WRLD', 'WRONG', 'WTF', 'WWW', 'X2', 'X29', 'X49', 'XCHAT', 'XCLUSIVE', 'XMAS', 'XX', 'XXUK', 'XXX', 'XXXX', 'XXXXX', 'XXXXXX', 'Y87', 'YA', 'YEAH', 'YEAR', 'YEARS', 'YEH', 'YES', 'YEST', 'YESTERDAY', 'YET', 'YHL', 'YM', 'YMCA', 'YO', 'YOR', 'YOU', 'YOUR', 'YOURJOB', 'YRS', 'ZOE', 'ZOUK']\n"
     ]
    }
   ],
   "source": [
    "#First, determine if preserving capitalization is important\n",
    "vect = CountVectorizer(lowercase = False)\n",
    "X_vect1 = vect.fit_transform(X)\n",
    "X_names =  vect.get_feature_names()\n",
    "X_isupper = list(map(lambda x: x.isupper(), X_names))\n",
    "print([x for x, y in zip(X_names, X_isupper) if y == True])"
   ]
  },
  {
   "cell_type": "markdown",
   "metadata": {},
   "source": [
    "#### Does not look like capitalization matters here. The list contains both random words and actual words. "
   ]
  },
  {
   "cell_type": "code",
   "execution_count": 11,
   "metadata": {},
   "outputs": [],
   "source": [
    "vect_count = CountVectorizer()\n",
    "vect_list.append(vect_count)"
   ]
  },
  {
   "cell_type": "markdown",
   "metadata": {},
   "source": [
    "#### (ii) N-grams"
   ]
  },
  {
   "cell_type": "code",
   "execution_count": 12,
   "metadata": {},
   "outputs": [],
   "source": [
    "# Include 1-grams and 2-grams.\n",
    "vect_ngram = CountVectorizer(ngram_range=(1, 2))\n",
    "vect_list.append(vect_ngram)"
   ]
  },
  {
   "cell_type": "markdown",
   "metadata": {},
   "source": [
    "#### (iii) Stop-Word Removal"
   ]
  },
  {
   "cell_type": "code",
   "execution_count": 13,
   "metadata": {},
   "outputs": [],
   "source": [
    "vect_stop = CountVectorizer(stop_words='english')\n",
    "vect_list.append(vect_stop)"
   ]
  },
  {
   "cell_type": "markdown",
   "metadata": {},
   "source": [
    "#### (iv) Stemming"
   ]
  },
  {
   "cell_type": "code",
   "execution_count": 14,
   "metadata": {},
   "outputs": [],
   "source": [
    "stemmer = SnowballStemmer('english')\n",
    "\n",
    "# Define a function that accepts text and returns a list of stems.\n",
    "def split_into_stems(text):\n",
    "    text = str(text).lower()\n",
    "    words = TextBlob(text).words\n",
    "    return [stemmer.stem(word) for word in words]"
   ]
  },
  {
   "cell_type": "code",
   "execution_count": 15,
   "metadata": {},
   "outputs": [],
   "source": [
    "vect_stem = CountVectorizer(analyzer = split_into_stems, decode_error = 'replace')\n",
    "vect_list.append(vect_stem)"
   ]
  },
  {
   "cell_type": "code",
   "execution_count": 16,
   "metadata": {},
   "outputs": [
    {
     "data": {
      "text/plain": [
       "0.424646933642871"
      ]
     },
     "execution_count": 16,
     "metadata": {},
     "output_type": "execute_result"
    }
   ],
   "source": [
    "# Check % of words root was found for (based on grouping)\n",
    "X_stem_check = vect_stem.fit_transform(X)\n",
    "X_count_check = vect_count.fit_transform(X)\n",
    "stem_list = vect_stem.get_feature_names()\n",
    "count_list = vect_count.get_feature_names()\n",
    "1 - (np.setdiff1d(stem_list, count_list).shape[0] / X.shape[0])"
   ]
  },
  {
   "cell_type": "markdown",
   "metadata": {},
   "source": [
    "#### (v) Lemmatization"
   ]
  },
  {
   "cell_type": "code",
   "execution_count": 17,
   "metadata": {},
   "outputs": [],
   "source": [
    "# Define a function that accepts text and returns a list of lemmas.\n",
    "def split_into_lemmas(text):\n",
    "    text = str(text).lower()\n",
    "    words = TextBlob(text).words\n",
    "    return [word.lemmatize() for word in words]"
   ]
  },
  {
   "cell_type": "code",
   "execution_count": 18,
   "metadata": {},
   "outputs": [],
   "source": [
    "vect_lemm = CountVectorizer(analyzer = split_into_lemmas, decode_error='replace')\n",
    "vect_list.append(vect_lemm)"
   ]
  },
  {
   "cell_type": "code",
   "execution_count": 19,
   "metadata": {},
   "outputs": [
    {
     "data": {
      "text/plain": [
       "0.7283807312826465"
      ]
     },
     "execution_count": 19,
     "metadata": {},
     "output_type": "execute_result"
    }
   ],
   "source": [
    "# Check % of words root was found for\n",
    "X_lemm_check = vect_lemm.fit_transform(X)\n",
    "X_count_check = vect_count.fit_transform(X)\n",
    "lemm_list = vect_lemm.get_feature_names()\n",
    "count_list = vect_count.get_feature_names()\n",
    "1 - (np.setdiff1d(lemm_list, count_list).shape[0] / X.shape[0])"
   ]
  },
  {
   "cell_type": "markdown",
   "metadata": {},
   "source": [
    "#### The lemmatizer was able to find the root for 72% of the words in the text messages. On the other stemmer was only able to find common groups for 42% of the words. The % of words in its original form is significant in both cases. "
   ]
  },
  {
   "cell_type": "markdown",
   "metadata": {},
   "source": [
    "### 3 - Train Candidate Machine Learning Models\n",
    "#### We use a pre-defined cross_validation function to train each candidate model and assess its accuracy. The function returns three outputs that we can use to assess the accuracy of the model: \n",
    "#### 1) Testing accuracy: The % of classification labels that the model was able to predict correctly using the test data. The higher this number is, the more accurate the model is deemed to be. Since the cross_validation function runs training and testing for 10 data folds, this value is an average of 10 testing accuracy values. \n",
    "#### 2) Confusion matrix: This matrix reports (L-R) the true negatives, false negatives, false positives and true positives predicted by the model. The higher the numbers across the diagonal, the better the model performs. Since the cross_validation function runs training and testing for 10 data folds, this value is the sum of confusion matrices across the 10 folds. Why is a confusion matrix useful? While the overall accuracy is a good indicator of model performance, it is also important to assess how well the model is able to predict specific outcomes. In this case, it is important that our model can successfully predict the existence of relationships between devices. So, we want our model to have a high true positive count. \n",
    "#### 3) Classification report: Finally, the recall percentages in the classification report for each model translates the percentage of true negatives and positives the model was able to classify. Again, we are going for a high recall percentage for class 1. \""
   ]
  },
  {
   "cell_type": "markdown",
   "metadata": {},
   "source": [
    "#### Now, start training each model on the data. For each model, we are trying to optimize for two things: 1) relevant hyperparameters 2) the vectorizer type \n",
    "#### (i) Multinomial Naive Bayes"
   ]
  },
  {
   "cell_type": "code",
   "execution_count": 20,
   "metadata": {},
   "outputs": [
    {
     "name": "stdout",
     "output_type": "stream",
     "text": [
      "~~~~ Iter1 Cross Validating for vect type: 1 and alpha: 0.1~~~~\n",
      "~~~~ Iter2 Cross Validating for vect type: 1 and alpha: 0.2~~~~\n",
      "~~~~ Iter3 Cross Validating for vect type: 1 and alpha: 0.30000000000000004~~~~\n",
      "~~~~ Iter4 Cross Validating for vect type: 1 and alpha: 0.4~~~~\n",
      "~~~~ Iter5 Cross Validating for vect type: 1 and alpha: 0.5~~~~\n",
      "~~~~ Iter6 Cross Validating for vect type: 1 and alpha: 0.6~~~~\n",
      "~~~~ Iter7 Cross Validating for vect type: 1 and alpha: 0.7000000000000001~~~~\n",
      "~~~~ Iter8 Cross Validating for vect type: 1 and alpha: 0.8~~~~\n",
      "~~~~ Iter9 Cross Validating for vect type: 1 and alpha: 0.9~~~~\n",
      "~~~~ Iter10 Cross Validating for vect type: 2 and alpha: 0.1~~~~\n",
      "~~~~ Iter11 Cross Validating for vect type: 2 and alpha: 0.2~~~~\n",
      "~~~~ Iter12 Cross Validating for vect type: 2 and alpha: 0.30000000000000004~~~~\n",
      "~~~~ Iter13 Cross Validating for vect type: 2 and alpha: 0.4~~~~\n",
      "~~~~ Iter14 Cross Validating for vect type: 2 and alpha: 0.5~~~~\n",
      "~~~~ Iter15 Cross Validating for vect type: 2 and alpha: 0.6~~~~\n",
      "~~~~ Iter16 Cross Validating for vect type: 2 and alpha: 0.7000000000000001~~~~\n",
      "~~~~ Iter17 Cross Validating for vect type: 2 and alpha: 0.8~~~~\n",
      "~~~~ Iter18 Cross Validating for vect type: 2 and alpha: 0.9~~~~\n",
      "~~~~ Iter19 Cross Validating for vect type: 3 and alpha: 0.1~~~~\n",
      "~~~~ Iter20 Cross Validating for vect type: 3 and alpha: 0.2~~~~\n",
      "~~~~ Iter21 Cross Validating for vect type: 3 and alpha: 0.30000000000000004~~~~\n",
      "~~~~ Iter22 Cross Validating for vect type: 3 and alpha: 0.4~~~~\n",
      "~~~~ Iter23 Cross Validating for vect type: 3 and alpha: 0.5~~~~\n",
      "~~~~ Iter24 Cross Validating for vect type: 3 and alpha: 0.6~~~~\n",
      "~~~~ Iter25 Cross Validating for vect type: 3 and alpha: 0.7000000000000001~~~~\n",
      "~~~~ Iter26 Cross Validating for vect type: 3 and alpha: 0.8~~~~\n",
      "~~~~ Iter27 Cross Validating for vect type: 3 and alpha: 0.9~~~~\n",
      "~~~~ Iter28 Cross Validating for vect type: 4 and alpha: 0.1~~~~\n",
      "~~~~ Iter29 Cross Validating for vect type: 4 and alpha: 0.2~~~~\n",
      "~~~~ Iter30 Cross Validating for vect type: 4 and alpha: 0.30000000000000004~~~~\n",
      "~~~~ Iter31 Cross Validating for vect type: 4 and alpha: 0.4~~~~\n",
      "~~~~ Iter32 Cross Validating for vect type: 4 and alpha: 0.5~~~~\n",
      "~~~~ Iter33 Cross Validating for vect type: 4 and alpha: 0.6~~~~\n",
      "~~~~ Iter34 Cross Validating for vect type: 4 and alpha: 0.7000000000000001~~~~\n",
      "~~~~ Iter35 Cross Validating for vect type: 4 and alpha: 0.8~~~~\n",
      "~~~~ Iter36 Cross Validating for vect type: 4 and alpha: 0.9~~~~\n",
      "~~~~ Iter37 Cross Validating for vect type: 5 and alpha: 0.1~~~~\n",
      "~~~~ Iter38 Cross Validating for vect type: 5 and alpha: 0.2~~~~\n",
      "~~~~ Iter39 Cross Validating for vect type: 5 and alpha: 0.30000000000000004~~~~\n",
      "~~~~ Iter40 Cross Validating for vect type: 5 and alpha: 0.4~~~~\n",
      "~~~~ Iter41 Cross Validating for vect type: 5 and alpha: 0.5~~~~\n",
      "~~~~ Iter42 Cross Validating for vect type: 5 and alpha: 0.6~~~~\n",
      "~~~~ Iter43 Cross Validating for vect type: 5 and alpha: 0.7000000000000001~~~~\n",
      "~~~~ Iter44 Cross Validating for vect type: 5 and alpha: 0.8~~~~\n",
      "~~~~ Iter45 Cross Validating for vect type: 5 and alpha: 0.9~~~~\n"
     ]
    }
   ],
   "source": [
    "from sklearn.naive_bayes import MultinomialNB\n",
    "#Determine optimal alpha (smoothing) value and vectorizer type\n",
    "alpha_range = np.arange(0.1, 1, 0.1)\n",
    "count = 0\n",
    "accuracy_dict = {}\n",
    "for i in range(len(vect_list)):\n",
    "    for j in alpha_range:\n",
    "        print('~~~~ Iter' + str(count+1) + ' Cross Validating for vect type: ' + str(i+1) + ' and alpha: ' + str(j) + '~~~~')\n",
    "        accuracy_dict[count] = cross_validation(X, y, MultinomialNB(alpha = j), vect_type = vect_list[i], print_metrics = False)['average_accuracy']\n",
    "        count += 1"
   ]
  },
  {
   "cell_type": "code",
   "execution_count": 21,
   "metadata": {},
   "outputs": [
    {
     "data": {
      "image/png": "[encoded data removed]",
      "text/plain": [
       "<matplotlib.figure.Figure at 0x119efd630>"
      ]
     },
     "metadata": {},
     "output_type": "display_data"
    }
   ],
   "source": [
    "#Plot accuracy against max depth value\n",
    "accuracy_matrix = pd.DataFrame.from_dict(accuracy_dict, orient='index')\n",
    "accuracy_matrix.columns = ['accuracy']\n",
    "accuracy_matrix.plot(color = 'red');\n",
    "plt.xlabel('Iteration');\n",
    "plt.ylabel('Accuracy (higher is better)');"
   ]
  },
  {
   "cell_type": "code",
   "execution_count": 22,
   "metadata": {},
   "outputs": [
    {
     "name": "stdout",
     "output_type": "stream",
     "text": [
      "MultinomialNB(alpha=0.1, class_prior=None, fit_prior=True) Metric Report\n",
      "\n",
      " -- Accuracy -- \n",
      "0.9856847795120928\n",
      "\n",
      " -- Confusion Matrix -- \n",
      "[[4483   33]\n",
      " [  41  612]]\n",
      "\n",
      " -- Classification Report -- \n",
      "   precision    recall  fl-score\n",
      "0   0.990915  0.992694  0.991794\n",
      "1   0.948150  0.937608  0.942372\n",
      "\n",
      "Note: we do not print the average \"support\" values as it is meaningless. We need to refer to the confusion matrix sum above\n"
     ]
    }
   ],
   "source": [
    "naive_bayes_model = cross_validation(X, y, MultinomialNB(alpha = 0.1), vect_type = vect_list[1])"
   ]
  },
  {
   "cell_type": "markdown",
   "metadata": {},
   "source": [
    "#### (ii) Decision Tree Classifier"
   ]
  },
  {
   "cell_type": "code",
   "execution_count": 23,
   "metadata": {},
   "outputs": [
    {
     "name": "stdout",
     "output_type": "stream",
     "text": [
      "~~~~ Iter1 Cross Validating for vect type: 1 and max_depth: 3~~~~\n",
      "~~~~ Iter2 Cross Validating for vect type: 1 and max_depth: 4~~~~\n",
      "~~~~ Iter3 Cross Validating for vect type: 1 and max_depth: 5~~~~\n",
      "~~~~ Iter4 Cross Validating for vect type: 1 and max_depth: 6~~~~\n",
      "~~~~ Iter5 Cross Validating for vect type: 1 and max_depth: 7~~~~\n",
      "~~~~ Iter6 Cross Validating for vect type: 1 and max_depth: 8~~~~\n",
      "~~~~ Iter7 Cross Validating for vect type: 1 and max_depth: 9~~~~\n",
      "~~~~ Iter8 Cross Validating for vect type: 1 and max_depth: 10~~~~\n",
      "~~~~ Iter9 Cross Validating for vect type: 1 and max_depth: 11~~~~\n",
      "~~~~ Iter10 Cross Validating for vect type: 1 and max_depth: 12~~~~\n",
      "~~~~ Iter11 Cross Validating for vect type: 1 and max_depth: 13~~~~\n",
      "~~~~ Iter12 Cross Validating for vect type: 1 and max_depth: 14~~~~\n",
      "~~~~ Iter13 Cross Validating for vect type: 1 and max_depth: 15~~~~\n",
      "~~~~ Iter14 Cross Validating for vect type: 1 and max_depth: 16~~~~\n",
      "~~~~ Iter15 Cross Validating for vect type: 1 and max_depth: 17~~~~\n",
      "~~~~ Iter16 Cross Validating for vect type: 1 and max_depth: 18~~~~\n",
      "~~~~ Iter17 Cross Validating for vect type: 1 and max_depth: 19~~~~\n",
      "~~~~ Iter18 Cross Validating for vect type: 1 and max_depth: 20~~~~\n",
      "~~~~ Iter19 Cross Validating for vect type: 2 and max_depth: 3~~~~\n",
      "~~~~ Iter20 Cross Validating for vect type: 2 and max_depth: 4~~~~\n",
      "~~~~ Iter21 Cross Validating for vect type: 2 and max_depth: 5~~~~\n",
      "~~~~ Iter22 Cross Validating for vect type: 2 and max_depth: 6~~~~\n",
      "~~~~ Iter23 Cross Validating for vect type: 2 and max_depth: 7~~~~\n",
      "~~~~ Iter24 Cross Validating for vect type: 2 and max_depth: 8~~~~\n",
      "~~~~ Iter25 Cross Validating for vect type: 2 and max_depth: 9~~~~\n",
      "~~~~ Iter26 Cross Validating for vect type: 2 and max_depth: 10~~~~\n",
      "~~~~ Iter27 Cross Validating for vect type: 2 and max_depth: 11~~~~\n",
      "~~~~ Iter28 Cross Validating for vect type: 2 and max_depth: 12~~~~\n",
      "~~~~ Iter29 Cross Validating for vect type: 2 and max_depth: 13~~~~\n",
      "~~~~ Iter30 Cross Validating for vect type: 2 and max_depth: 14~~~~\n",
      "~~~~ Iter31 Cross Validating for vect type: 2 and max_depth: 15~~~~\n",
      "~~~~ Iter32 Cross Validating for vect type: 2 and max_depth: 16~~~~\n",
      "~~~~ Iter33 Cross Validating for vect type: 2 and max_depth: 17~~~~\n",
      "~~~~ Iter34 Cross Validating for vect type: 2 and max_depth: 18~~~~\n",
      "~~~~ Iter35 Cross Validating for vect type: 2 and max_depth: 19~~~~\n",
      "~~~~ Iter36 Cross Validating for vect type: 2 and max_depth: 20~~~~\n",
      "~~~~ Iter37 Cross Validating for vect type: 3 and max_depth: 3~~~~\n",
      "~~~~ Iter38 Cross Validating for vect type: 3 and max_depth: 4~~~~\n",
      "~~~~ Iter39 Cross Validating for vect type: 3 and max_depth: 5~~~~\n",
      "~~~~ Iter40 Cross Validating for vect type: 3 and max_depth: 6~~~~\n",
      "~~~~ Iter41 Cross Validating for vect type: 3 and max_depth: 7~~~~\n",
      "~~~~ Iter42 Cross Validating for vect type: 3 and max_depth: 8~~~~\n",
      "~~~~ Iter43 Cross Validating for vect type: 3 and max_depth: 9~~~~\n",
      "~~~~ Iter44 Cross Validating for vect type: 3 and max_depth: 10~~~~\n",
      "~~~~ Iter45 Cross Validating for vect type: 3 and max_depth: 11~~~~\n",
      "~~~~ Iter46 Cross Validating for vect type: 3 and max_depth: 12~~~~\n",
      "~~~~ Iter47 Cross Validating for vect type: 3 and max_depth: 13~~~~\n",
      "~~~~ Iter48 Cross Validating for vect type: 3 and max_depth: 14~~~~\n",
      "~~~~ Iter49 Cross Validating for vect type: 3 and max_depth: 15~~~~\n",
      "~~~~ Iter50 Cross Validating for vect type: 3 and max_depth: 16~~~~\n",
      "~~~~ Iter51 Cross Validating for vect type: 3 and max_depth: 17~~~~\n",
      "~~~~ Iter52 Cross Validating for vect type: 3 and max_depth: 18~~~~\n",
      "~~~~ Iter53 Cross Validating for vect type: 3 and max_depth: 19~~~~\n",
      "~~~~ Iter54 Cross Validating for vect type: 3 and max_depth: 20~~~~\n",
      "~~~~ Iter55 Cross Validating for vect type: 4 and max_depth: 3~~~~\n",
      "~~~~ Iter56 Cross Validating for vect type: 4 and max_depth: 4~~~~\n",
      "~~~~ Iter57 Cross Validating for vect type: 4 and max_depth: 5~~~~\n",
      "~~~~ Iter58 Cross Validating for vect type: 4 and max_depth: 6~~~~\n",
      "~~~~ Iter59 Cross Validating for vect type: 4 and max_depth: 7~~~~\n",
      "~~~~ Iter60 Cross Validating for vect type: 4 and max_depth: 8~~~~\n",
      "~~~~ Iter61 Cross Validating for vect type: 4 and max_depth: 9~~~~\n",
      "~~~~ Iter62 Cross Validating for vect type: 4 and max_depth: 10~~~~\n",
      "~~~~ Iter63 Cross Validating for vect type: 4 and max_depth: 11~~~~\n",
      "~~~~ Iter64 Cross Validating for vect type: 4 and max_depth: 12~~~~\n",
      "~~~~ Iter65 Cross Validating for vect type: 4 and max_depth: 13~~~~\n",
      "~~~~ Iter66 Cross Validating for vect type: 4 and max_depth: 14~~~~\n",
      "~~~~ Iter67 Cross Validating for vect type: 4 and max_depth: 15~~~~\n",
      "~~~~ Iter68 Cross Validating for vect type: 4 and max_depth: 16~~~~\n",
      "~~~~ Iter69 Cross Validating for vect type: 4 and max_depth: 17~~~~\n",
      "~~~~ Iter70 Cross Validating for vect type: 4 and max_depth: 18~~~~\n",
      "~~~~ Iter71 Cross Validating for vect type: 4 and max_depth: 19~~~~\n",
      "~~~~ Iter72 Cross Validating for vect type: 4 and max_depth: 20~~~~\n",
      "~~~~ Iter73 Cross Validating for vect type: 5 and max_depth: 3~~~~\n",
      "~~~~ Iter74 Cross Validating for vect type: 5 and max_depth: 4~~~~\n",
      "~~~~ Iter75 Cross Validating for vect type: 5 and max_depth: 5~~~~\n",
      "~~~~ Iter76 Cross Validating for vect type: 5 and max_depth: 6~~~~\n",
      "~~~~ Iter77 Cross Validating for vect type: 5 and max_depth: 7~~~~\n",
      "~~~~ Iter78 Cross Validating for vect type: 5 and max_depth: 8~~~~\n",
      "~~~~ Iter79 Cross Validating for vect type: 5 and max_depth: 9~~~~\n",
      "~~~~ Iter80 Cross Validating for vect type: 5 and max_depth: 10~~~~\n",
      "~~~~ Iter81 Cross Validating for vect type: 5 and max_depth: 11~~~~\n",
      "~~~~ Iter82 Cross Validating for vect type: 5 and max_depth: 12~~~~\n",
      "~~~~ Iter83 Cross Validating for vect type: 5 and max_depth: 13~~~~\n",
      "~~~~ Iter84 Cross Validating for vect type: 5 and max_depth: 14~~~~\n",
      "~~~~ Iter85 Cross Validating for vect type: 5 and max_depth: 15~~~~\n",
      "~~~~ Iter86 Cross Validating for vect type: 5 and max_depth: 16~~~~\n",
      "~~~~ Iter87 Cross Validating for vect type: 5 and max_depth: 17~~~~\n",
      "~~~~ Iter88 Cross Validating for vect type: 5 and max_depth: 18~~~~\n",
      "~~~~ Iter89 Cross Validating for vect type: 5 and max_depth: 19~~~~\n",
      "~~~~ Iter90 Cross Validating for vect type: 5 and max_depth: 20~~~~\n"
     ]
    }
   ],
   "source": [
    "from sklearn.tree import DecisionTreeClassifier\n",
    "\n",
    "#Determine optimal max_depth value and vectorizer type\n",
    "depth_range = range(3, 21, 1)\n",
    "count = 0\n",
    "accuracy_dict = {}\n",
    "for i in range(len(vect_list)):\n",
    "    for j in depth_range:\n",
    "        print('~~~~ Iter' + str(count+1) + ' Cross Validating for vect type: ' + str(i+1) + ' and max_depth: ' + str(j) + '~~~~')\n",
    "        accuracy_dict[count] = cross_validation(X, y, DecisionTreeClassifier(max_depth = j), vect_type = vect_list[i], print_metrics = False)['average_accuracy']\n",
    "        count += 1"
   ]
  },
  {
   "cell_type": "code",
   "execution_count": 24,
   "metadata": {},
   "outputs": [
    {
     "data": {
      "image/png": "[encoded data removed]",
      "text/plain": [
       "<matplotlib.figure.Figure at 0x11a1741d0>"
      ]
     },
     "metadata": {},
     "output_type": "display_data"
    }
   ],
   "source": [
    "#Plot accuracy against max depth value\n",
    "accuracy_matrix = pd.DataFrame.from_dict(accuracy_dict, orient='index')\n",
    "accuracy_matrix.columns = ['accuracy']\n",
    "accuracy_matrix.plot(color = 'green');\n",
    "plt.xlabel('Iteration');\n",
    "plt.ylabel('Accuracy (higher is better)');"
   ]
  },
  {
   "cell_type": "code",
   "execution_count": 25,
   "metadata": {},
   "outputs": [
    {
     "name": "stdout",
     "output_type": "stream",
     "text": [
      "DecisionTreeClassifier(class_weight=None, criterion='gini', max_depth=14,\n",
      "            max_features=None, max_leaf_nodes=None,\n",
      "            min_impurity_decrease=0.0, min_impurity_split=None,\n",
      "            min_samples_leaf=1, min_samples_split=2,\n",
      "            min_weight_fraction_leaf=0.0, presort=False, random_state=None,\n",
      "            splitter='best') Metric Report\n",
      "\n",
      " -- Accuracy -- \n",
      "0.9649824569295129\n",
      "\n",
      " -- Confusion Matrix -- \n",
      "[[4444   72]\n",
      " [ 109  544]]\n",
      "\n",
      " -- Classification Report -- \n",
      "   precision    recall  fl-score\n",
      "0   0.976069  0.984143  0.980024\n",
      "1   0.881742  0.834063  0.854268\n",
      "\n",
      "Note: we do not print the average \"support\" values as it is meaningless. We need to refer to the confusion matrix sum above\n"
     ]
    }
   ],
   "source": [
    "decision_tree_model = cross_validation(X, y, DecisionTreeClassifier(max_depth = 14), vect_type = vect_list[1])"
   ]
  },
  {
   "cell_type": "markdown",
   "metadata": {},
   "source": [
    "#### (iii) Random Forest Classifier"
   ]
  },
  {
   "cell_type": "markdown",
   "metadata": {},
   "source": [
    "#### For a random forest model, we typically want to optimize the max_depth and n_estimators hyperparameter. Here, the GridSearchCV function becomes useful to find the optimal settings for these parameters as we want to avoid too many nested loops. "
   ]
  },
  {
   "cell_type": "code",
   "execution_count": 26,
   "metadata": {},
   "outputs": [
    {
     "name": "stdout",
     "output_type": "stream",
     "text": [
      "2018-07-26 00:26:36.067819\n",
      "\n",
      " Searching for vect_type: 0\n",
      "RandomForest: Area under the ROC curve = 0.9671694641164333\n",
      "{'max_depth': 19, 'n_estimators': 8}\n",
      "\n",
      " Searching for vect_type: 1\n",
      "RandomForest: Area under the ROC curve = 0.8931968995706241\n",
      "{'max_depth': 20, 'n_estimators': 4}\n",
      "\n",
      " Searching for vect_type: 2\n",
      "RandomForest: Area under the ROC curve = 0.9655606981542407\n",
      "{'max_depth': 20, 'n_estimators': 12}\n",
      "\n",
      " Searching for vect_type: 3\n",
      "RandomForest: Area under the ROC curve = 0.9617130429933641\n",
      "{'max_depth': 18, 'n_estimators': 12}\n",
      "\n",
      " Searching for vect_type: 4\n",
      "RandomForest: Area under the ROC curve = 0.9039619695533375\n",
      "{'max_depth': 20, 'n_estimators': 4}\n",
      "2018-07-26 00:34:34.941571\n"
     ]
    }
   ],
   "source": [
    "print(dt.now())\n",
    "from sklearn.ensemble import RandomForestClassifier\n",
    "\n",
    "X_train, X_test, y_train, y_test = train_test_split(X, y, random_state = 99)\n",
    "\n",
    "for i in range(len(vect_list)):\n",
    "    X_train_dtm = vect_list[i].fit_transform(X_train)\n",
    "    X_test_dtm =  vect_list[i].transform(X_test)\n",
    "    param_grid = {'max_depth': np.arange(3, 21), 'n_estimators': np.arange(3, 21)}\n",
    "\n",
    "    forest = GridSearchCV(RandomForestClassifier(), param_grid)\n",
    "    y_true = np.array(y_test)\n",
    "    forest.fit(X_train_dtm, y_train)\n",
    "    forest_preds = forest.predict_proba(X_test_dtm)[:, 1]\n",
    "    forest_performance = roc_auc_score(y_true, forest_preds)\n",
    "    print('\\n Searching for vect_type: ' + str(i))\n",
    "    print('RandomForest: Area under the ROC curve = {}'.format(forest_performance))\n",
    "\n",
    "    print(forest.best_params_)\n",
    "    \n",
    "print(dt.now())"
   ]
  },
  {
   "cell_type": "code",
   "execution_count": 27,
   "metadata": {
    "scrolled": true
   },
   "outputs": [
    {
     "name": "stdout",
     "output_type": "stream",
     "text": [
      "RandomForestClassifier(bootstrap=True, class_weight=None, criterion='gini',\n",
      "            max_depth=None, max_features='auto', max_leaf_nodes=None,\n",
      "            min_impurity_decrease=0.0, min_impurity_split=None,\n",
      "            min_samples_leaf=1, min_samples_split=2,\n",
      "            min_weight_fraction_leaf=0.0, n_estimators=10, n_jobs=1,\n",
      "            oob_score=False, random_state=None, verbose=0,\n",
      "            warm_start=False) Metric Report\n",
      "\n",
      " -- Accuracy -- \n",
      "0.9690458518885041\n",
      "\n",
      " -- Confusion Matrix -- \n",
      "[[4514    2]\n",
      " [ 158  495]]\n",
      "\n",
      " -- Classification Report -- \n",
      "   precision    recall  fl-score\n",
      "0   0.966216  0.999554  0.982582\n",
      "1   0.996072  0.759377  0.860570\n",
      "\n",
      "Note: we do not print the average \"support\" values as it is meaningless. We need to refer to the confusion matrix sum above\n"
     ]
    }
   ],
   "source": [
    "random_forest_model = cross_validation(X, y, RandomForestClassifier(max_depth = 19, n_estimators = 8), vect_type = vect_list[0])"
   ]
  },
  {
   "cell_type": "markdown",
   "metadata": {},
   "source": [
    "#### We can see that the naive bayes model is better at predicting true positives compared to the decision tree and random forest models."
   ]
  },
  {
   "cell_type": "markdown",
   "metadata": {},
   "source": [
    "### 4 - Diagnose False Negatives\n",
    "#### Let's take a look at the spam messages that were misclassified as spam to determine if there are ways to engineer our features to improve the true positive rate. "
   ]
  },
  {
   "cell_type": "code",
   "execution_count": 30,
   "metadata": {},
   "outputs": [
    {
     "data": {
      "text/html": [
       "<div>\n",
       "<style scoped>\n",
       "    .dataframe tbody tr th:only-of-type {\n",
       "        vertical-align: middle;\n",
       "    }\n",
       "\n",
       "    .dataframe tbody tr th {\n",
       "        vertical-align: top;\n",
       "    }\n",
       "\n",
       "    .dataframe thead th {\n",
       "        text-align: right;\n",
       "    }\n",
       "</style>\n",
       "<table border=\"1\" class=\"dataframe\">\n",
       "  <thead>\n",
       "    <tr style=\"text-align: right;\">\n",
       "      <th></th>\n",
       "      <th>text</th>\n",
       "      <th>true_label</th>\n",
       "      <th>pred_label</th>\n",
       "      <th>type</th>\n",
       "    </tr>\n",
       "  </thead>\n",
       "  <tbody>\n",
       "    <tr>\n",
       "      <th>24</th>\n",
       "      <td>Can u get pic msgs to your phone?</td>\n",
       "      <td>0</td>\n",
       "      <td>1</td>\n",
       "      <td>ham predicted as spam</td>\n",
       "    </tr>\n",
       "    <tr>\n",
       "      <th>20</th>\n",
       "      <td>Customer place i will call you</td>\n",
       "      <td>0</td>\n",
       "      <td>1</td>\n",
       "      <td>ham predicted as spam</td>\n",
       "    </tr>\n",
       "    <tr>\n",
       "      <th>19</th>\n",
       "      <td>Hi, Mobile no.  &amp;lt;#&amp;gt;  has added you in their contact list on www.fullonsms.com It s a great...</td>\n",
       "      <td>0</td>\n",
       "      <td>1</td>\n",
       "      <td>ham predicted as spam</td>\n",
       "    </tr>\n",
       "    <tr>\n",
       "      <th>6</th>\n",
       "      <td>We have sent JD for Customer Service cum Accounts Executive to ur mail id, For details contact us</td>\n",
       "      <td>0</td>\n",
       "      <td>1</td>\n",
       "      <td>ham predicted as spam</td>\n",
       "    </tr>\n",
       "    <tr>\n",
       "      <th>17</th>\n",
       "      <td>Hey company elama po mudyadhu.</td>\n",
       "      <td>0</td>\n",
       "      <td>1</td>\n",
       "      <td>ham predicted as spam</td>\n",
       "    </tr>\n",
       "    <tr>\n",
       "      <th>8</th>\n",
       "      <td>26th OF JULY</td>\n",
       "      <td>0</td>\n",
       "      <td>1</td>\n",
       "      <td>ham predicted as spam</td>\n",
       "    </tr>\n",
       "    <tr>\n",
       "      <th>9</th>\n",
       "      <td>U WILL SWITCH YOUR FONE ON DAMMIT!!</td>\n",
       "      <td>0</td>\n",
       "      <td>1</td>\n",
       "      <td>ham predicted as spam</td>\n",
       "    </tr>\n",
       "    <tr>\n",
       "      <th>10</th>\n",
       "      <td>Anytime...</td>\n",
       "      <td>0</td>\n",
       "      <td>1</td>\n",
       "      <td>ham predicted as spam</td>\n",
       "    </tr>\n",
       "    <tr>\n",
       "      <th>11</th>\n",
       "      <td>Have you laid your airtel line to rest?</td>\n",
       "      <td>0</td>\n",
       "      <td>1</td>\n",
       "      <td>ham predicted as spam</td>\n",
       "    </tr>\n",
       "    <tr>\n",
       "      <th>13</th>\n",
       "      <td>K k:) sms chat with me.</td>\n",
       "      <td>0</td>\n",
       "      <td>1</td>\n",
       "      <td>ham predicted as spam</td>\n",
       "    </tr>\n",
       "    <tr>\n",
       "      <th>15</th>\n",
       "      <td>Waiting for your call.</td>\n",
       "      <td>0</td>\n",
       "      <td>1</td>\n",
       "      <td>ham predicted as spam</td>\n",
       "    </tr>\n",
       "    <tr>\n",
       "      <th>22</th>\n",
       "      <td>Do you realize that in about 40 years, we'll have thousands of old ladies running around with ta...</td>\n",
       "      <td>1</td>\n",
       "      <td>0</td>\n",
       "      <td>spam predicted as ham</td>\n",
       "    </tr>\n",
       "    <tr>\n",
       "      <th>21</th>\n",
       "      <td>How come it takes so little time for a child who is afraid of the dark to become a teenager who ...</td>\n",
       "      <td>1</td>\n",
       "      <td>0</td>\n",
       "      <td>spam predicted as ham</td>\n",
       "    </tr>\n",
       "    <tr>\n",
       "      <th>18</th>\n",
       "      <td>88066 FROM 88066 LOST 3POUND HELP</td>\n",
       "      <td>1</td>\n",
       "      <td>0</td>\n",
       "      <td>spam predicted as ham</td>\n",
       "    </tr>\n",
       "    <tr>\n",
       "      <th>16</th>\n",
       "      <td>INTERFLORA - It's not too late to order Interflora flowers for christmas call 0800 505060 to pl...</td>\n",
       "      <td>1</td>\n",
       "      <td>0</td>\n",
       "      <td>spam predicted as ham</td>\n",
       "    </tr>\n",
       "    <tr>\n",
       "      <th>0</th>\n",
       "      <td>Not heard from U4 a while. Call me now am here all night with just my knickers on. Make me beg f...</td>\n",
       "      <td>1</td>\n",
       "      <td>0</td>\n",
       "      <td>spam predicted as ham</td>\n",
       "    </tr>\n",
       "    <tr>\n",
       "      <th>23</th>\n",
       "      <td>Do you ever notice that when you're driving, anyone going slower than you is an idiot and everyo...</td>\n",
       "      <td>1</td>\n",
       "      <td>0</td>\n",
       "      <td>spam predicted as ham</td>\n",
       "    </tr>\n",
       "    <tr>\n",
       "      <th>7</th>\n",
       "      <td>Ever thought about living a good life with a perfect partner? Just txt back NAME and AGE to join...</td>\n",
       "      <td>1</td>\n",
       "      <td>0</td>\n",
       "      <td>spam predicted as ham</td>\n",
       "    </tr>\n",
       "    <tr>\n",
       "      <th>5</th>\n",
       "      <td>LIFE has never been this much fun and great until you came in. You made it truly special for me....</td>\n",
       "      <td>1</td>\n",
       "      <td>0</td>\n",
       "      <td>spam predicted as ham</td>\n",
       "    </tr>\n",
       "    <tr>\n",
       "      <th>4</th>\n",
       "      <td>Oh my god! I've found your number again! I'm so glad, text me back xafter this msgs cst std ntwk...</td>\n",
       "      <td>1</td>\n",
       "      <td>0</td>\n",
       "      <td>spam predicted as ham</td>\n",
       "    </tr>\n",
       "    <tr>\n",
       "      <th>3</th>\n",
       "      <td>TBS/PERSOLVO. been chasing us since Sept for£38 definitely not paying now thanks to your informa...</td>\n",
       "      <td>1</td>\n",
       "      <td>0</td>\n",
       "      <td>spam predicted as ham</td>\n",
       "    </tr>\n",
       "    <tr>\n",
       "      <th>2</th>\n",
       "      <td>2/2 146tf150p</td>\n",
       "      <td>1</td>\n",
       "      <td>0</td>\n",
       "      <td>spam predicted as ham</td>\n",
       "    </tr>\n",
       "    <tr>\n",
       "      <th>1</th>\n",
       "      <td>dating:i have had two of these. Only started after i sent a text to talk sport radio last week. ...</td>\n",
       "      <td>1</td>\n",
       "      <td>0</td>\n",
       "      <td>spam predicted as ham</td>\n",
       "    </tr>\n",
       "    <tr>\n",
       "      <th>14</th>\n",
       "      <td>FROM 88066 LOST £12 HELP</td>\n",
       "      <td>1</td>\n",
       "      <td>0</td>\n",
       "      <td>spam predicted as ham</td>\n",
       "    </tr>\n",
       "    <tr>\n",
       "      <th>12</th>\n",
       "      <td>ringtoneking 84484</td>\n",
       "      <td>1</td>\n",
       "      <td>0</td>\n",
       "      <td>spam predicted as ham</td>\n",
       "    </tr>\n",
       "  </tbody>\n",
       "</table>\n",
       "</div>"
      ],
      "text/plain": [
       "                                                                                                   text  \\\n",
       "24                                                                    Can u get pic msgs to your phone?   \n",
       "20                                                                       Customer place i will call you   \n",
       "19  Hi, Mobile no.  &lt;#&gt;  has added you in their contact list on www.fullonsms.com It s a great...   \n",
       "6     We have sent JD for Customer Service cum Accounts Executive to ur mail id, For details contact us   \n",
       "17                                                                       Hey company elama po mudyadhu.   \n",
       "8                                                                                          26th OF JULY   \n",
       "9                                                                   U WILL SWITCH YOUR FONE ON DAMMIT!!   \n",
       "10                                                                                           Anytime...   \n",
       "11                                                              Have you laid your airtel line to rest?   \n",
       "13                                                                              K k:) sms chat with me.   \n",
       "15                                                                               Waiting for your call.   \n",
       "22  Do you realize that in about 40 years, we'll have thousands of old ladies running around with ta...   \n",
       "21  How come it takes so little time for a child who is afraid of the dark to become a teenager who ...   \n",
       "18                                                                    88066 FROM 88066 LOST 3POUND HELP   \n",
       "16  INTERFLORA - It's not too late to order Interflora flowers for christmas call 0800 505060 to pl...   \n",
       "0   Not heard from U4 a while. Call me now am here all night with just my knickers on. Make me beg f...   \n",
       "23  Do you ever notice that when you're driving, anyone going slower than you is an idiot and everyo...   \n",
       "7   Ever thought about living a good life with a perfect partner? Just txt back NAME and AGE to join...   \n",
       "5   LIFE has never been this much fun and great until you came in. You made it truly special for me....   \n",
       "4   Oh my god! I've found your number again! I'm so glad, text me back xafter this msgs cst std ntwk...   \n",
       "3   TBS/PERSOLVO. been chasing us since Sept for£38 definitely not paying now thanks to your informa...   \n",
       "2                                                                                         2/2 146tf150p   \n",
       "1   dating:i have had two of these. Only started after i sent a text to talk sport radio last week. ...   \n",
       "14                                                                             FROM 88066 LOST £12 HELP   \n",
       "12                                                                                   ringtoneking 84484   \n",
       "\n",
       "    true_label  pred_label                   type  \n",
       "24           0           1  ham predicted as spam  \n",
       "20           0           1  ham predicted as spam  \n",
       "19           0           1  ham predicted as spam  \n",
       "6            0           1  ham predicted as spam  \n",
       "17           0           1  ham predicted as spam  \n",
       "8            0           1  ham predicted as spam  \n",
       "9            0           1  ham predicted as spam  \n",
       "10           0           1  ham predicted as spam  \n",
       "11           0           1  ham predicted as spam  \n",
       "13           0           1  ham predicted as spam  \n",
       "15           0           1  ham predicted as spam  \n",
       "22           1           0  spam predicted as ham  \n",
       "21           1           0  spam predicted as ham  \n",
       "18           1           0  spam predicted as ham  \n",
       "16           1           0  spam predicted as ham  \n",
       "0            1           0  spam predicted as ham  \n",
       "23           1           0  spam predicted as ham  \n",
       "7            1           0  spam predicted as ham  \n",
       "5            1           0  spam predicted as ham  \n",
       "4            1           0  spam predicted as ham  \n",
       "3            1           0  spam predicted as ham  \n",
       "2            1           0  spam predicted as ham  \n",
       "1            1           0  spam predicted as ham  \n",
       "14           1           0  spam predicted as ham  \n",
       "12           1           0  spam predicted as ham  "
      ]
     },
     "execution_count": 30,
     "metadata": {},
     "output_type": "execute_result"
    }
   ],
   "source": [
    "X_train, X_test, y_train, y_test = train_test_split(X, y, random_state = 99)\n",
    "X_train_dtm = vect_list[0].fit_transform(X_train)\n",
    "X_test_dtm =  vect_list[0].transform(X_test)\n",
    "\n",
    "nb_test = MultinomialNB(alpha = 0.1)\n",
    "nb_test.fit(X_train_dtm, y_train)\n",
    "y_pred_class = nb_test.predict(X_test_dtm)\n",
    "\n",
    "diag_df = pd.concat([X_test, y_test], axis=1).reset_index().drop(columns = 'index').rename(columns = {'label': 'true_label'})\n",
    "diag_df = pd.concat([diag_df, pd.Series(y_pred_class)], axis = 1).rename(columns = {0 : 'pred_label'})\n",
    "\n",
    "diag_df = diag_df.loc[diag_df['true_label'] != diag_df['pred_label']].reset_index().drop(columns = 'index')\n",
    "diag_df.loc[diag_df['true_label'] == 1, 'type'] = 'spam predicted as ham'\n",
    "diag_df.loc[diag_df['pred_label'] == 1, 'type'] = 'ham predicted as spam'\n",
    "diag_df.sort_values('type')"
   ]
  },
  {
   "cell_type": "markdown",
   "metadata": {},
   "source": [
    "#### Two ways I might try to improve my feature engineering to increase my true positive rate are: 1) adding a column to the sparse matrix that flags a text containing a 5-digit number starting with 8. 2) adding a column that contains the polarity of the text using sentiment analysis. \n",
    "\n",
    "#### I have not figured out how to add a column to a sparse matrix. This is my next step. "
   ]
  },
  {
   "cell_type": "code",
   "execution_count": null,
   "metadata": {},
   "outputs": [],
   "source": [
    "print(dt.now())\n",
    "# try ngrams = 3\n",
    "# try just a sentiment analysis\n",
    "# Punctuation?\n",
    "# Cap vs non cap. \n",
    "\n",
    "#try beta score maker. \n",
    "#try bow transformer \n",
    "# tfdif'\n",
    "#pipeline: countvectorizer and tfidf transformer \n",
    "#Decision tree - see how it branches \n",
    "\n",
    "#There is a function called cross_validate. \n",
    "#For cross validation look at spread of distribution, not just average. \n",
    "#Use stratified kfold to maintain balance between test and train\n",
    "\n",
    "#Features: text length, punctuation text length, exclamation marks. "
   ]
  }
 ],
 "metadata": {
  "kernelspec": {
   "display_name": "Python 3",
   "language": "python",
   "name": "python3"
  },
  "language_info": {
   "codemirror_mode": {
    "name": "ipython",
    "version": 3
   },
   "file_extension": ".py",
   "mimetype": "text/x-python",
   "name": "python",
   "nbconvert_exporter": "python",
   "pygments_lexer": "ipython3",
   "version": "3.6.4"
  }
 },
 "nbformat": 4,
 "nbformat_minor": 2
}
