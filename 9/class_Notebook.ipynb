{
 "cells": [
  {
   "cell_type": "code",
   "execution_count": 13,
   "metadata": {},
   "outputs": [
    {
     "data": {
      "text/html": [
       "<div>\n",
       "<style scoped>\n",
       "    .dataframe tbody tr th:only-of-type {\n",
       "        vertical-align: middle;\n",
       "    }\n",
       "\n",
       "    .dataframe tbody tr th {\n",
       "        vertical-align: top;\n",
       "    }\n",
       "\n",
       "    .dataframe thead th {\n",
       "        text-align: right;\n",
       "    }\n",
       "</style>\n",
       "<table border=\"1\" class=\"dataframe\">\n",
       "  <thead>\n",
       "    <tr style=\"text-align: right;\">\n",
       "      <th></th>\n",
       "      <th>name</th>\n",
       "      <th>company</th>\n",
       "    </tr>\n",
       "  </thead>\n",
       "  <tbody>\n",
       "    <tr>\n",
       "      <th>0</th>\n",
       "      <td>Jay</td>\n",
       "      <td>Accenture</td>\n",
       "    </tr>\n",
       "    <tr>\n",
       "      <th>1</th>\n",
       "      <td>Rob</td>\n",
       "      <td>Facebook</td>\n",
       "    </tr>\n",
       "    <tr>\n",
       "      <th>2</th>\n",
       "      <td>Tom</td>\n",
       "      <td>Google</td>\n",
       "    </tr>\n",
       "    <tr>\n",
       "      <th>3</th>\n",
       "      <td>Jess</td>\n",
       "      <td>Twitter</td>\n",
       "    </tr>\n",
       "  </tbody>\n",
       "</table>\n",
       "</div>"
      ],
      "text/plain": [
       "   name    company\n",
       "0   Jay  Accenture\n",
       "1   Rob   Facebook\n",
       "2   Tom     Google\n",
       "3  Jess   Twitter "
      ]
     },
     "execution_count": 13,
     "metadata": {},
     "output_type": "execute_result"
    }
   ],
   "source": [
    "import pandas as pd\n",
    "import numpy as np\n",
    "\n",
    "df = pd.read_excel(open('/Users/jay.ghorbani/Desktop/Neo_temp.xlsx','rb'), sheet_name='Sheet1')\n",
    "df.head()"
   ]
  },
  {
   "cell_type": "code",
   "execution_count": 14,
   "metadata": {},
   "outputs": [
    {
     "data": {
      "text/html": [
       "<div>\n",
       "<style scoped>\n",
       "    .dataframe tbody tr th:only-of-type {\n",
       "        vertical-align: middle;\n",
       "    }\n",
       "\n",
       "    .dataframe tbody tr th {\n",
       "        vertical-align: top;\n",
       "    }\n",
       "\n",
       "    .dataframe thead th {\n",
       "        text-align: right;\n",
       "    }\n",
       "</style>\n",
       "<table border=\"1\" class=\"dataframe\">\n",
       "  <thead>\n",
       "    <tr style=\"text-align: right;\">\n",
       "      <th></th>\n",
       "      <th>name</th>\n",
       "      <th>company</th>\n",
       "      <th>Individual_query</th>\n",
       "      <th>Company_query</th>\n",
       "      <th>Rel_query</th>\n",
       "    </tr>\n",
       "  </thead>\n",
       "  <tbody>\n",
       "    <tr>\n",
       "      <th>0</th>\n",
       "      <td>Jay</td>\n",
       "      <td>Accenture</td>\n",
       "      <td></td>\n",
       "      <td></td>\n",
       "      <td></td>\n",
       "    </tr>\n",
       "    <tr>\n",
       "      <th>1</th>\n",
       "      <td>Rob</td>\n",
       "      <td>Facebook</td>\n",
       "      <td></td>\n",
       "      <td></td>\n",
       "      <td></td>\n",
       "    </tr>\n",
       "    <tr>\n",
       "      <th>2</th>\n",
       "      <td>Tom</td>\n",
       "      <td>Google</td>\n",
       "      <td></td>\n",
       "      <td></td>\n",
       "      <td></td>\n",
       "    </tr>\n",
       "    <tr>\n",
       "      <th>3</th>\n",
       "      <td>Jess</td>\n",
       "      <td>Twitter</td>\n",
       "      <td></td>\n",
       "      <td></td>\n",
       "      <td></td>\n",
       "    </tr>\n",
       "  </tbody>\n",
       "</table>\n",
       "</div>"
      ],
      "text/plain": [
       "   name    company Individual_query Company_query Rel_query\n",
       "0   Jay  Accenture                                         \n",
       "1   Rob   Facebook                                         \n",
       "2   Tom     Google                                         \n",
       "3  Jess   Twitter                                          "
      ]
     },
     "execution_count": 14,
     "metadata": {},
     "output_type": "execute_result"
    }
   ],
   "source": [
    "df['Individual_query']=\"\"\n",
    "df['Company_query']=\"\"\n",
    "df['Rel_query']=\"\"\n",
    "df"
   ]
  },
  {
   "cell_type": "code",
   "execution_count": 15,
   "metadata": {},
   "outputs": [
    {
     "name": "stdout",
     "output_type": "stream",
     "text": [
      "0 ------ Accenture\n",
      "1 ------ Facebook\n",
      "2 ------ Google\n",
      "3 ------ Twitter \n"
     ]
    },
    {
     "data": {
      "text/html": [
       "<div>\n",
       "<style scoped>\n",
       "    .dataframe tbody tr th:only-of-type {\n",
       "        vertical-align: middle;\n",
       "    }\n",
       "\n",
       "    .dataframe tbody tr th {\n",
       "        vertical-align: top;\n",
       "    }\n",
       "\n",
       "    .dataframe thead th {\n",
       "        text-align: right;\n",
       "    }\n",
       "</style>\n",
       "<table border=\"1\" class=\"dataframe\">\n",
       "  <thead>\n",
       "    <tr style=\"text-align: right;\">\n",
       "      <th></th>\n",
       "      <th>name</th>\n",
       "      <th>company</th>\n",
       "      <th>Individual_query</th>\n",
       "      <th>Company_query</th>\n",
       "      <th>Rel_query</th>\n",
       "    </tr>\n",
       "  </thead>\n",
       "  <tbody>\n",
       "    <tr>\n",
       "      <th>0</th>\n",
       "      <td>Jay</td>\n",
       "      <td>Accenture</td>\n",
       "      <td>MERGE(n:Individual {name:'Jay'})</td>\n",
       "      <td>MERGE(n:Company {name:'Accenture'})</td>\n",
       "      <td>MATCH (n1:Individual {name:'Jay'}),(n2:Company...</td>\n",
       "    </tr>\n",
       "    <tr>\n",
       "      <th>1</th>\n",
       "      <td>Rob</td>\n",
       "      <td>Facebook</td>\n",
       "      <td>MERGE(n:Individual {name:'Rob'})</td>\n",
       "      <td>MERGE(n:Company {name:'Facebook'})</td>\n",
       "      <td>MATCH (n1:Individual {name:'Rob'}),(n2:Company...</td>\n",
       "    </tr>\n",
       "    <tr>\n",
       "      <th>2</th>\n",
       "      <td>Tom</td>\n",
       "      <td>Google</td>\n",
       "      <td>MERGE(n:Individual {name:'Tom'})</td>\n",
       "      <td>MERGE(n:Company {name:'Google'})</td>\n",
       "      <td>MATCH (n1:Individual {name:'Tom'}),(n2:Company...</td>\n",
       "    </tr>\n",
       "    <tr>\n",
       "      <th>3</th>\n",
       "      <td>Jess</td>\n",
       "      <td>Twitter</td>\n",
       "      <td>MERGE(n:Individual {name:'Jess'})</td>\n",
       "      <td>MERGE(n:Company {name:'Twitter '})</td>\n",
       "      <td>MATCH (n1:Individual {name:'Jess'}),(n2:Compan...</td>\n",
       "    </tr>\n",
       "  </tbody>\n",
       "</table>\n",
       "</div>"
      ],
      "text/plain": [
       "   name    company                   Individual_query  \\\n",
       "0   Jay  Accenture   MERGE(n:Individual {name:'Jay'})   \n",
       "1   Rob   Facebook   MERGE(n:Individual {name:'Rob'})   \n",
       "2   Tom     Google   MERGE(n:Individual {name:'Tom'})   \n",
       "3  Jess   Twitter   MERGE(n:Individual {name:'Jess'})   \n",
       "\n",
       "                         Company_query  \\\n",
       "0  MERGE(n:Company {name:'Accenture'})   \n",
       "1   MERGE(n:Company {name:'Facebook'})   \n",
       "2     MERGE(n:Company {name:'Google'})   \n",
       "3   MERGE(n:Company {name:'Twitter '})   \n",
       "\n",
       "                                           Rel_query  \n",
       "0  MATCH (n1:Individual {name:'Jay'}),(n2:Company...  \n",
       "1  MATCH (n1:Individual {name:'Rob'}),(n2:Company...  \n",
       "2  MATCH (n1:Individual {name:'Tom'}),(n2:Company...  \n",
       "3  MATCH (n1:Individual {name:'Jess'}),(n2:Compan...  "
      ]
     },
     "execution_count": 15,
     "metadata": {},
     "output_type": "execute_result"
    }
   ],
   "source": [
    "for index, row in df.iterrows():  \n",
    "    print(index,'------',row['company'])\n",
    "    df['Individual_query'][index]=\"MERGE(n:Individual {name:'%s'})\"%(row['name'])\n",
    "    df['Company_query'][index]=\"MERGE(n:Company {name:'%s'})\"%(row['company'])\n",
    "    df['Rel_query'][index]=\"MATCH (n1:Individual {name:'%s'}),(n2:Company {name:'%s'}) MERGE (n1)-[r:WORKS_IN]->(n2)\"%(row['name'],row['company'])\n",
    "df"
   ]
  },
  {
   "cell_type": "markdown",
   "metadata": {},
   "source": [
    "## Ingest into Graph from here"
   ]
  },
  {
   "cell_type": "code",
   "execution_count": 16,
   "metadata": {},
   "outputs": [],
   "source": [
    "# How to install this package? type this \"pip install neo4j-driver\" in your terminal  ==> then run the rest\n",
    "from neo4j.v1 import GraphDatabase\n",
    "\n",
    "uri = \"bolt://localhost:7687\"\n",
    "driver = GraphDatabase.driver(uri, auth=(\"neo4j\", \"mjgh2765\"))\n"
   ]
  },
  {
   "cell_type": "code",
   "execution_count": 17,
   "metadata": {},
   "outputs": [],
   "source": [
    "for index, row in df.iterrows():\n",
    "    with driver.session() as session:      \n",
    "        result = session.run(row['Individual_query'])\n",
    "        result = session.run(row['Company_query'])\n",
    "        result = session.run(row['Rel_query'])"
   ]
  },
  {
   "cell_type": "code",
   "execution_count": null,
   "metadata": {},
   "outputs": [],
   "source": []
  }
 ],
 "metadata": {
  "kernelspec": {
   "display_name": "Python 3",
   "language": "python",
   "name": "python3"
  },
  "language_info": {
   "codemirror_mode": {
    "name": "ipython",
    "version": 3
   },
   "file_extension": ".py",
   "mimetype": "text/x-python",
   "name": "python",
   "nbconvert_exporter": "python",
   "pygments_lexer": "ipython3",
   "version": "3.6.4"
  }
 },
 "nbformat": 4,
 "nbformat_minor": 2
}
